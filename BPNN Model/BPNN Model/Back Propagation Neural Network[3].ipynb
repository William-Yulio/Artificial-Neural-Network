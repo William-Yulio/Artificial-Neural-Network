{
  "nbformat": 4,
  "nbformat_minor": 0,
  "metadata": {
    "colab": {
      "name": "UTS_2301869840_William Yulio [3].ipynb",
      "provenance": []
    },
    "kernelspec": {
      "name": "python3",
      "display_name": "Python 3"
    },
    "language_info": {
      "name": "python"
    }
  },
  "cells": [
    {
      "cell_type": "markdown",
      "metadata": {
        "id": "vnkHv_bxsQOf"
      },
      "source": [
        "Nama : William Yulio\n",
        "\n",
        "NIM : 2301869840\n",
        "\n",
        "Kelas : LD01"
      ]
    },
    {
      "cell_type": "markdown",
      "metadata": {
        "id": "OfUydmlDrPsC"
      },
      "source": [
        "### Import Library"
      ]
    },
    {
      "cell_type": "code",
      "metadata": {
        "colab": {
          "base_uri": "https://localhost:8080/"
        },
        "id": "eV09foGnJk4h",
        "outputId": "34c1dc32-1e60-4fa6-f158-7a165e983836"
      },
      "source": [
        "!pip install --upgrade tensorflow==1.15"
      ],
      "execution_count": 1,
      "outputs": [
        {
          "output_type": "stream",
          "text": [
            "Requirement already up-to-date: tensorflow==1.15 in /usr/local/lib/python3.7/dist-packages (1.15.0)\n",
            "Requirement already satisfied, skipping upgrade: google-pasta>=0.1.6 in /usr/local/lib/python3.7/dist-packages (from tensorflow==1.15) (0.2.0)\n",
            "Requirement already satisfied, skipping upgrade: astor>=0.6.0 in /usr/local/lib/python3.7/dist-packages (from tensorflow==1.15) (0.8.1)\n",
            "Requirement already satisfied, skipping upgrade: numpy<2.0,>=1.16.0 in /usr/local/lib/python3.7/dist-packages (from tensorflow==1.15) (1.19.5)\n",
            "Requirement already satisfied, skipping upgrade: absl-py>=0.7.0 in /usr/local/lib/python3.7/dist-packages (from tensorflow==1.15) (0.12.0)\n",
            "Requirement already satisfied, skipping upgrade: tensorboard<1.16.0,>=1.15.0 in /usr/local/lib/python3.7/dist-packages (from tensorflow==1.15) (1.15.0)\n",
            "Requirement already satisfied, skipping upgrade: termcolor>=1.1.0 in /usr/local/lib/python3.7/dist-packages (from tensorflow==1.15) (1.1.0)\n",
            "Requirement already satisfied, skipping upgrade: wrapt>=1.11.1 in /usr/local/lib/python3.7/dist-packages (from tensorflow==1.15) (1.12.1)\n",
            "Requirement already satisfied, skipping upgrade: gast==0.2.2 in /usr/local/lib/python3.7/dist-packages (from tensorflow==1.15) (0.2.2)\n",
            "Requirement already satisfied, skipping upgrade: keras-preprocessing>=1.0.5 in /usr/local/lib/python3.7/dist-packages (from tensorflow==1.15) (1.1.2)\n",
            "Requirement already satisfied, skipping upgrade: grpcio>=1.8.6 in /usr/local/lib/python3.7/dist-packages (from tensorflow==1.15) (1.32.0)\n",
            "Requirement already satisfied, skipping upgrade: wheel>=0.26 in /usr/local/lib/python3.7/dist-packages (from tensorflow==1.15) (0.36.2)\n",
            "Requirement already satisfied, skipping upgrade: protobuf>=3.6.1 in /usr/local/lib/python3.7/dist-packages (from tensorflow==1.15) (3.12.4)\n",
            "Requirement already satisfied, skipping upgrade: tensorflow-estimator==1.15.1 in /usr/local/lib/python3.7/dist-packages (from tensorflow==1.15) (1.15.1)\n",
            "Requirement already satisfied, skipping upgrade: keras-applications>=1.0.8 in /usr/local/lib/python3.7/dist-packages (from tensorflow==1.15) (1.0.8)\n",
            "Requirement already satisfied, skipping upgrade: six>=1.10.0 in /usr/local/lib/python3.7/dist-packages (from tensorflow==1.15) (1.15.0)\n",
            "Requirement already satisfied, skipping upgrade: opt-einsum>=2.3.2 in /usr/local/lib/python3.7/dist-packages (from tensorflow==1.15) (3.3.0)\n",
            "Requirement already satisfied, skipping upgrade: setuptools>=41.0.0 in /usr/local/lib/python3.7/dist-packages (from tensorboard<1.16.0,>=1.15.0->tensorflow==1.15) (56.0.0)\n",
            "Requirement already satisfied, skipping upgrade: werkzeug>=0.11.15 in /usr/local/lib/python3.7/dist-packages (from tensorboard<1.16.0,>=1.15.0->tensorflow==1.15) (1.0.1)\n",
            "Requirement already satisfied, skipping upgrade: markdown>=2.6.8 in /usr/local/lib/python3.7/dist-packages (from tensorboard<1.16.0,>=1.15.0->tensorflow==1.15) (3.3.4)\n",
            "Requirement already satisfied, skipping upgrade: h5py in /usr/local/lib/python3.7/dist-packages (from keras-applications>=1.0.8->tensorflow==1.15) (2.10.0)\n",
            "Requirement already satisfied, skipping upgrade: importlib-metadata; python_version < \"3.8\" in /usr/local/lib/python3.7/dist-packages (from markdown>=2.6.8->tensorboard<1.16.0,>=1.15.0->tensorflow==1.15) (3.10.1)\n",
            "Requirement already satisfied, skipping upgrade: zipp>=0.5 in /usr/local/lib/python3.7/dist-packages (from importlib-metadata; python_version < \"3.8\"->markdown>=2.6.8->tensorboard<1.16.0,>=1.15.0->tensorflow==1.15) (3.4.1)\n",
            "Requirement already satisfied, skipping upgrade: typing-extensions>=3.6.4; python_version < \"3.8\" in /usr/local/lib/python3.7/dist-packages (from importlib-metadata; python_version < \"3.8\"->markdown>=2.6.8->tensorboard<1.16.0,>=1.15.0->tensorflow==1.15) (3.7.4.3)\n"
          ],
          "name": "stdout"
        }
      ]
    },
    {
      "cell_type": "code",
      "metadata": {
        "id": "y-Tr3lbga2QC"
      },
      "source": [
        "import tensorflow as tf\n",
        "import pandas as pd\n",
        "import numpy as np\n",
        "from sklearn.preprocessing import OneHotEncoder, MinMaxScaler\n",
        "from sklearn.model_selection import train_test_split\n",
        "from sklearn.datasets import load_digits\n",
        "from sklearn import metrics\n",
        "import seaborn as sn\n",
        "import matplotlib.pyplot as plt\n",
        "from sklearn.metrics import classification_report\n",
        "\n",
        "# Menginisialisasi library yang akan digunakan selama proses coding"
      ],
      "execution_count": 2,
      "outputs": []
    },
    {
      "cell_type": "markdown",
      "metadata": {
        "id": "Wr_zOAy0KBqm"
      },
      "source": [
        "### Load Dataset"
      ]
    },
    {
      "cell_type": "code",
      "metadata": {
        "id": "qofABuorbBEP"
      },
      "source": [
        "def load_dataset():\n",
        "    data = load_digits()\n",
        "    feature = data['data']\n",
        "    label = data['target']\n",
        "\n",
        "    return feature, label\n",
        "\n",
        "feature, label = load_dataset()\n",
        "# Tahap pertama yang harus dilakukan adalah load dataset, pada soal kali ini saya membuat function agar dapat dipanggil dengan mudah saja\n",
        "# karena untuk nomor 3 kita tidak ada memilih kelas, sehingga data bisa diassign sesuai dengan kebutuhan dimana variabel feature akan menampung dataset \"data\" dan label akan menampung dataset \"target\"\n",
        "# Selanjutnya saya langsung memanggil fungsi tersebut dan di assign kedalam variabel feature dan label"
      ],
      "execution_count": 3,
      "outputs": []
    },
    {
      "cell_type": "markdown",
      "metadata": {
        "id": "UJ5qr9-7KE2g"
      },
      "source": [
        "### Preprocessing Data"
      ]
    },
    {
      "cell_type": "code",
      "metadata": {
        "id": "sq6L_0cRIO0a"
      },
      "source": [
        "feature = feature.reshape((len(feature), -1))\n",
        "label = label.reshape(label.shape[0],-1)\n",
        "\n",
        "scaler = MinMaxScaler()\n",
        "feature = scaler.fit_transform(feature)\n",
        "\n",
        "encoder = OneHotEncoder(sparse=False)\n",
        "label = encoder.fit_transform(label)\n",
        "\n",
        "# Tahap selanjutnya ada melakukan proses preprocessing data, dimana sebelumnya saya mereshape variabel feature dan label agar dapat dikalkulasi nantinya\n",
        "# Kemudian menggunakan MinMaxScaler sehingga data feature dapat dengan mudah diproses dan OneHotEncoder kepada label, sehingga label menjadi angka 0 dan 1\n",
        "# Hal ini dilakukan juga untuk mempercepat proses kalkulasi nantinya"
      ],
      "execution_count": 4,
      "outputs": []
    },
    {
      "cell_type": "markdown",
      "metadata": {
        "id": "EaahwvkrKINP"
      },
      "source": [
        "### Split Data"
      ]
    },
    {
      "cell_type": "code",
      "metadata": {
        "id": "1Pf4cF3kbHKf"
      },
      "source": [
        "x_train, x_test, y_train, y_test = train_test_split(feature, label, test_size = 0.2)\n",
        "\n",
        "# Pada tahap ini saya akan melakukan split dataset untuk memisahkan data mana yang akan digunakan untuk training dan untuk testing baik itu data input maupun output\n",
        "# Saya menggunakan fungsi train_test_split() untuk proses split dataset ini dengan data_input sebagai x dan data_output sebagai y\n",
        "# Sesuai dengan soal saya memisahkan dataset ini dengan ketentuan 80% untuk training dan 20% untuk testing"
      ],
      "execution_count": 5,
      "outputs": []
    },
    {
      "cell_type": "markdown",
      "metadata": {
        "id": "CxxOK8TIKNtd"
      },
      "source": [
        "### Membuat Neural Network dan Menentukan Weight dan Bias"
      ]
    },
    {
      "cell_type": "code",
      "metadata": {
        "id": "TT7lRccWcSmX"
      },
      "source": [
        "layer = {\n",
        "    \"input\": 64,\n",
        "    \"hidden\": 10,\n",
        "    \"output\": 10\n",
        "}\n",
        "\n",
        "weight = {\n",
        "    \"to_hidden\": tf.Variable(tf.random_normal([layer['input'], layer['hidden']])),\n",
        "    \"to_output\": tf.Variable(tf.random_normal([layer['hidden'], layer['output']]))\n",
        "}\n",
        "\n",
        "bias = {\n",
        "    'to_hidden': tf.Variable(tf.random_normal([layer['hidden']])),\n",
        "    'to_output': tf.Variable(tf.random_normal([layer['output']]))\n",
        "}\n",
        "\n",
        "# Dalam tahap ini saya akan membuat neural network dengan mendeklarasi layer input, hidden dan output dan menentukan jumlah neuron yang terdapat didalamnya\n",
        "# Selanjutnya juga menentukkan bobot weight dan bias pada setiap layer secara random dengan menggunakan fungsi tf.random_normal\n",
        "# Setiap weight dan bias akan di assign ke masing masing layer"
      ],
      "execution_count": 6,
      "outputs": []
    },
    {
      "cell_type": "markdown",
      "metadata": {
        "id": "Q97JJYKsOSwG"
      },
      "source": [
        "### Membuat Placeholder"
      ]
    },
    {
      "cell_type": "code",
      "metadata": {
        "id": "QfniwJkgcTSV"
      },
      "source": [
        "input_tensor = tf.placeholder(tf.float32, [None, layer['input']])\n",
        "target_tensor = tf.placeholder(tf.float32, [None, layer['output']])\n",
        "\n",
        "learning_rate = 0.5\n",
        "epoch = 50000\n",
        "\n",
        "# Pada tahap ini saya akan membuat placeholder dengan menggunakan fungsi tf.placeholder, placeholder sendiri digunakan untuk memberi makan contoh pelatihan aktual (untuk feed_dict)\n",
        "# Kita juga menggunakan tipe data float 32, karena memang sudah default untuk setiap fungsi tensor flow hanya menerima data yang memiliki tipe data float 32\n",
        "# Saya akan menggunakan epoch sebanyak 50000 dan learning rate sebsar 0.5"
      ],
      "execution_count": 7,
      "outputs": []
    },
    {
      "cell_type": "markdown",
      "metadata": {
        "id": "i_oCBf1lQBFo"
      },
      "source": [
        "### Activation Function"
      ]
    },
    {
      "cell_type": "code",
      "metadata": {
        "id": "NZLGexvJcU-P"
      },
      "source": [
        "def feed_forward():\n",
        "    u = tf.matmul(input_tensor, weight['to_hidden']) + bias['to_hidden']\n",
        "    y = tf.nn.sigmoid(u)\n",
        "    o = tf.matmul(y, weight['to_output']) + bias['to_output']\n",
        "    z = tf.nn.sigmoid(o)\n",
        "    return z\n",
        "# Selanjutnya kita masuk kedalam fungsi feed_forward(), fungsi ini akan digunakan untuk menghitung activation function\n",
        "# baik itu pada saat melakukan feed forward maupun back propagate, dalam activation function ini kita menggunakan sigmoid"
      ],
      "execution_count": 8,
      "outputs": []
    },
    {
      "cell_type": "code",
      "metadata": {
        "id": "_NbxXN_ScWpt",
        "colab": {
          "base_uri": "https://localhost:8080/"
        },
        "outputId": "f2707fee-5f96-45a0-9774-37ada5b2977d"
      },
      "source": [
        "output = feed_forward()\n",
        "error = tf.reduce_mean(.5*(target_tensor-output)**2)\n",
        "train = tf.train.GradientDescentOptimizer(learning_rate).minimize(error)\n",
        "\n",
        "# Saya memanggil 3 variabel penampung untuk membantu proses training data nantinya\n",
        "# output akan menampung hasil dari proses activation function\n",
        "# error akan menghitung lost function dengan menggunakan rumus yang ada\n",
        "# train akan berfokus untuk mengkalkulasi proses training, pada proses ini saya menggunakan GradientDescentOptimizer agar mendapatkan hasil yang optimal dan juga dapat meminimalisir error"
      ],
      "execution_count": 9,
      "outputs": [
        {
          "output_type": "stream",
          "text": [
            "WARNING:tensorflow:From /usr/local/lib/python3.7/dist-packages/tensorflow_core/python/ops/math_grad.py:1375: where (from tensorflow.python.ops.array_ops) is deprecated and will be removed in a future version.\n",
            "Instructions for updating:\n",
            "Use tf.where in 2.0, which has the same broadcast rule as np.where\n"
          ],
          "name": "stdout"
        }
      ]
    },
    {
      "cell_type": "code",
      "metadata": {
        "id": "9E5uUI09Ub-Y"
      },
      "source": [
        "v_acc1 = []\n",
        "v_acc2 = []\n",
        "\n",
        "# Saya membuat variabel penampung ini untuk menampung hasil akurasi dari proses training dengan testing apakah memiliki hasil yang sama atau tidak"
      ],
      "execution_count": 10,
      "outputs": []
    },
    {
      "cell_type": "markdown",
      "metadata": {
        "id": "iia5DoSDRCg1"
      },
      "source": [
        "### Back Propagate"
      ]
    },
    {
      "cell_type": "code",
      "metadata": {
        "colab": {
          "base_uri": "https://localhost:8080/"
        },
        "id": "9jn1M6zlcYXC",
        "outputId": "3934a391-81cf-49f2-b177-66fc36374a9b"
      },
      "source": [
        "\n",
        "with tf.Session() as sess:\n",
        "    sess.run(tf.global_variables_initializer())\n",
        "\n",
        "    for i in range(epoch+1):\n",
        "        sess.run(train, feed_dict = {\n",
        "            input_tensor: x_train, \n",
        "            target_tensor: y_train\n",
        "        })\n",
        "\n",
        "        if i % 5000 == 0:\n",
        "            true_predict = tf.equal(tf.argmax(output, axis = 1), tf.argmax(target_tensor, axis = 1))\n",
        "            prediction = tf.argmax(output, axis = 1)\n",
        "            acc = tf.reduce_mean(tf.cast(true_predict, tf.float32))\n",
        "            prediction = sess.run(prediction, feed_dict = {\n",
        "                input_tensor: x_test,\n",
        "                target_tensor: y_test\n",
        "            })\n",
        "            acc1 =  sess.run(acc, feed_dict = {\n",
        "                input_tensor: x_train,\n",
        "                target_tensor: y_train\n",
        "            })\n",
        "            acc2 =  sess.run(acc, feed_dict = {\n",
        "                input_tensor: x_test,\n",
        "                target_tensor: y_test\n",
        "            })\n",
        "            v_acc1.append(acc1)\n",
        "            v_acc2.append(acc2)\n",
        "            print(f'Epoch: {i},  Accuracy_testing: {acc2*100}%')\n",
        "            print(f'Accuracy_training: {acc1*100}%')\n",
        "\n",
        "        # Selanjutnya saya akan memanggil sess.run(tf.global_variables_initializer()), yang merupakan API dari tensorflow\n",
        "        # Pada tahap ini kita akan memasukkan data training pada x_train dan y_train kedalam placeholder yang sudah dibuat sebelumnya dengan menggunakan feed_dict()\n",
        "        # Selanjutnya kita akan melakukan proses perhitungan setiap epoch ke 5000, perhitungan yang dilakukan adalah menghitung prediksi dari dataset kelas tersebut\n",
        "        # Dan juga menghitung akurasi dari setiap prediksi, seperti halnya dengan training. Kalkulasi ini berjalan ketika kita panggil menggunakan feed_dict\n",
        "        # Selanjutnya saya juga akan memasukkan data akurasi hasil testing dan training kedalam variabel v_acc1 dan v_acc2 untuk dibandingkan seberapa mirip akurasinya satu dengan lainnya"
      ],
      "execution_count": 11,
      "outputs": [
        {
          "output_type": "stream",
          "text": [
            "Epoch: 0,  Accuracy_testing: 8.888889104127884%\n",
            "Accuracy_training: 9.672929346561432%\n",
            "Epoch: 5000,  Accuracy_testing: 34.99999940395355%\n",
            "Accuracy_training: 36.04732155799866%\n",
            "Epoch: 10000,  Accuracy_testing: 59.16666388511658%\n",
            "Accuracy_training: 58.31593871116638%\n",
            "Epoch: 15000,  Accuracy_testing: 74.44444298744202%\n",
            "Accuracy_training: 70.77244520187378%\n",
            "Epoch: 20000,  Accuracy_testing: 83.61111283302307%\n",
            "Accuracy_training: 80.86290955543518%\n",
            "Epoch: 25000,  Accuracy_testing: 83.88888835906982%\n",
            "Accuracy_training: 84.34237837791443%\n",
            "Epoch: 30000,  Accuracy_testing: 83.61111283302307%\n",
            "Accuracy_training: 85.5949878692627%\n",
            "Epoch: 35000,  Accuracy_testing: 84.44444537162781%\n",
            "Accuracy_training: 87.19554543495178%\n",
            "Epoch: 40000,  Accuracy_testing: 87.22222447395325%\n",
            "Accuracy_training: 89.56158757209778%\n",
            "Epoch: 45000,  Accuracy_testing: 88.88888955116272%\n",
            "Accuracy_training: 91.64927005767822%\n",
            "Epoch: 50000,  Accuracy_testing: 90.55555462837219%\n",
            "Accuracy_training: 93.31941604614258%\n"
          ],
          "name": "stdout"
        }
      ]
    },
    {
      "cell_type": "markdown",
      "metadata": {
        "id": "AAoT_V4qSaQM"
      },
      "source": [
        "### Validation Curve Graph"
      ]
    },
    {
      "cell_type": "code",
      "metadata": {
        "colab": {
          "base_uri": "https://localhost:8080/",
          "height": 295
        },
        "id": "mIOPwZ_Lc4ub",
        "outputId": "cab9e03e-19b4-442a-eaba-99dcf8042cd3"
      },
      "source": [
        "plt.plot(v_acc1, 'r')\n",
        "plt.plot(v_acc2, 'b')\n",
        "plt.title('Validation Curve')\n",
        "plt.xlabel('Epoch')\n",
        "plt.ylabel('Score')\n",
        "plt.show()\n",
        "\n",
        "# Selanjutnya sebagai tahap evaluasi saya melakukan plotting dengan membuat validation curve graph untuk menunjukkan score dari setiap proses epoch\n",
        "# dapat dilihat bahwa model dapat belajar dengan baik dilihat dari hasil score yang terus meningkat seiring dengan epochnya"
      ],
      "execution_count": 12,
      "outputs": [
        {
          "output_type": "display_data",
          "data": {
            "image/png": "[encoded data removed]",
            "text/plain": [
              "<Figure size 432x288 with 1 Axes>"
            ]
          },
          "metadata": {
            "tags": [],
            "needs_background": "light"
          }
        }
      ]
    },
    {
      "cell_type": "markdown",
      "metadata": {
        "id": "3mSeJUHPSgww"
      },
      "source": [
        "### Confusion Matrix"
      ]
    },
    {
      "cell_type": "code",
      "metadata": {
        "id": "msM2p-jnc7dk"
      },
      "source": [
        "feature = [0, 1, 2, 3, 4, 5, 6, 7, 8, 9]\n",
        "y_test = y_test.dot(feature).astype(int)\n",
        "y_train = y_train.dot(feature).astype(int)"
      ],
      "execution_count": 13,
      "outputs": []
    },
    {
      "cell_type": "code",
      "metadata": {
        "colab": {
          "base_uri": "https://localhost:8080/"
        },
        "id": "TbqyCv9nc8hM",
        "outputId": "089a7a9c-fb81-4a8a-ff0a-8bb6edf2ab4c"
      },
      "source": [
        "confusionMatrix = metrics.confusion_matrix(y_test, prediction)\n",
        "print(\"Confusion matrix:\\n{}\".format(confusionMatrix))\n",
        "\n",
        "# Untuk proses pembuatan confussion matrix saya meenggunakan fungsi metrics.confusion_matrix() untuk dapat melihat banyak prediksi yang tepat dan yang salah"
      ],
      "execution_count": 14,
      "outputs": [
        {
          "output_type": "stream",
          "text": [
            "Confusion matrix:\n",
            "[[36  0  0  0  1  0  0  0  0  0]\n",
            " [ 0 38  0  0  0  1  1  0  2  1]\n",
            " [ 0  0 32  0  0  0  0  0  0  0]\n",
            " [ 1  0  2 33  0  0  0  4  0  0]\n",
            " [ 0  2  0  0 36  0  0  0  0  0]\n",
            " [ 0  0  0  0  1 31  0  0  0  1]\n",
            " [ 0  0  0  0  0  0 41  0  0  0]\n",
            " [ 0  0  0  1  0  0  0 30  0  1]\n",
            " [ 0  3  2  0  0  1  0  0 23  4]\n",
            " [ 0  2  0  0  0  1  0  0  2 26]]\n"
          ],
          "name": "stdout"
        }
      ]
    },
    {
      "cell_type": "code",
      "metadata": {
        "colab": {
          "base_uri": "https://localhost:8080/",
          "height": 592
        },
        "id": "2DBJiZ8_dAM_",
        "outputId": "fb6af954-61be-454d-c00e-74f00d25daf1"
      },
      "source": [
        "df_cm = pd.DataFrame(confusionMatrix, range(10), range(10))\n",
        "plt.figure(figsize=(13,10))\n",
        "sn.heatmap(df_cm, annot=True)\n",
        "plt.show()\n",
        "\n",
        "# Saya melakukan ploting sejumlah dengan kelas yang ada didalam data sehingga membentuk hasil yang diagonal seperti dibawah ini"
      ],
      "execution_count": 15,
      "outputs": [
        {
          "output_type": "display_data",
          "data": {
            "image/png": "[encoded data removed]",
            "text/plain": [
              "<Figure size 936x720 with 2 Axes>"
            ]
          },
          "metadata": {
            "tags": [],
            "needs_background": "light"
          }
        }
      ]
    },
    {
      "cell_type": "code",
      "metadata": {
        "colab": {
          "base_uri": "https://localhost:8080/"
        },
        "id": "apJacavxPL9k",
        "outputId": "267e2d18-6b68-48c3-8358-a2b236b1e6de"
      },
      "source": [
        "print(classification_report(y_test, prediction))\n",
        "\n",
        "# Selanjutnya saya juga membuat classification_report, dan ternyata mendapat hasil yang cukup baik dari berbagai kelas target"
      ],
      "execution_count": 16,
      "outputs": [
        {
          "output_type": "stream",
          "text": [
            "              precision    recall  f1-score   support\n",
            "\n",
            "           0       0.97      0.97      0.97        37\n",
            "           1       0.84      0.88      0.86        43\n",
            "           2       0.89      1.00      0.94        32\n",
            "           3       0.97      0.82      0.89        40\n",
            "           4       0.95      0.95      0.95        38\n",
            "           5       0.91      0.94      0.93        33\n",
            "           6       0.98      1.00      0.99        41\n",
            "           7       0.88      0.94      0.91        32\n",
            "           8       0.85      0.70      0.77        33\n",
            "           9       0.79      0.84      0.81        31\n",
            "\n",
            "    accuracy                           0.91       360\n",
            "   macro avg       0.90      0.90      0.90       360\n",
            "weighted avg       0.91      0.91      0.90       360\n",
            "\n"
          ],
          "name": "stdout"
        }
      ]
    }
  ]
}