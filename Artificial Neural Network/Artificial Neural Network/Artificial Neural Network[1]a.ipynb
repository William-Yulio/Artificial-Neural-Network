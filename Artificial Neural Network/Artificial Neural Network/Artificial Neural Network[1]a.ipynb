{
  "nbformat": 4,
  "nbformat_minor": 0,
  "metadata": {
    "colab": {
      "name": "UTS_2301869840_William Yulio [1]a.ipynb",
      "provenance": []
    },
    "kernelspec": {
      "name": "python3",
      "display_name": "Python 3"
    },
    "language_info": {
      "name": "python"
    }
  },
  "cells": [
    {
      "cell_type": "markdown",
      "metadata": {
        "id": "vnkHv_bxsQOf"
      },
      "source": [
        "Nama : William Yulio\n",
        "\n",
        "NIM : 2301869840\n",
        "\n",
        "Kelas : LD01"
      ]
    },
    {
      "cell_type": "markdown",
      "metadata": {
        "id": "OfUydmlDrPsC"
      },
      "source": [
        "### Import Library"
      ]
    },
    {
      "cell_type": "code",
      "metadata": {
        "id": "jXYU6LlFt93_"
      },
      "source": [
        "from sklearn.datasets import load_digits\n",
        "from sklearn.model_selection import train_test_split\n",
        "from sklearn.preprocessing import MinMaxScaler\n",
        "from sklearn import metrics\n",
        "import pylab as pl\n",
        "import numpy as np\n",
        "import pandas as pd\n",
        "import seaborn as sns\n",
        "import matplotlib.pyplot as plt\n",
        "from sklearn.metrics import confusion_matrix\n",
        "from sklearn.metrics import classification_report\n",
        "\n",
        "# Menginisialisasi library yang akan digunakan selama proses coding"
      ],
      "execution_count": 1,
      "outputs": []
    },
    {
      "cell_type": "markdown",
      "metadata": {
        "id": "uyID6HrZ1VHg"
      },
      "source": [
        "### Load Dataset"
      ]
    },
    {
      "cell_type": "code",
      "metadata": {
        "colab": {
          "base_uri": "https://localhost:8080/"
        },
        "id": "BJ8ZHMW68fa7",
        "outputId": "164800a9-8c98-4164-c559-f6ef1b996ce3"
      },
      "source": [
        "dataset = load_digits()\n",
        "dataset\n",
        "\n",
        "# Melakukan load dataset yang berasal dari libary \"from sklearn.datasets import load_digits\"\n",
        "# Saya memanggil dataset untuk melihat seperti apa bentuk dta aynag akan diolah nantinya dan melihat apakah dataset sudah berhasil diload apa belum"
      ],
      "execution_count": 2,
      "outputs": [
        {
          "output_type": "execute_result",
          "data": {
            "text/plain": [
              "{'DESCR': \".. _digits_dataset:\\n\\nOptical recognition of handwritten digits dataset\\n--------------------------------------------------\\n\\n**Data Set Characteristics:**\\n\\n    :Number of Instances: 5620\\n    :Number of Attributes: 64\\n    :Attribute Information: 8x8 image of integer pixels in the range 0..16.\\n    :Missing Attribute Values: None\\n    :Creator: E. Alpaydin (alpaydin '@' boun.edu.tr)\\n    :Date: July; 1998\\n\\nThis is a copy of the test set of the UCI ML hand-written digits datasets\\nhttps://archive.ics.uci.edu/ml/datasets/Optical+Recognition+of+Handwritten+Digits\\n\\nThe data set contains images of hand-written digits: 10 classes where\\neach class refers to a digit.\\n\\nPreprocessing programs made available by NIST were used to extract\\nnormalized bitmaps of handwritten digits from a preprinted form. From a\\ntotal of 43 people, 30 contributed to the training set and different 13\\nto the test set. 32x32 bitmaps are divided into nonoverlapping blocks of\\n4x4 and the number of on pixels are counted in each block. This generates\\nan input matrix of 8x8 where each element is an integer in the range\\n0..16. This reduces dimensionality and gives invariance to small\\ndistortions.\\n\\nFor info on NIST preprocessing routines, see M. D. Garris, J. L. Blue, G.\\nT. Candela, D. L. Dimmick, J. Geist, P. J. Grother, S. A. Janet, and C.\\nL. Wilson, NIST Form-Based Handprint Recognition System, NISTIR 5469,\\n1994.\\n\\n.. topic:: References\\n\\n  - C. Kaynak (1995) Methods of Combining Multiple Classifiers and Their\\n    Applications to Handwritten Digit Recognition, MSc Thesis, Institute of\\n    Graduate Studies in Science and Engineering, Bogazici University.\\n  - E. Alpaydin, C. Kaynak (1998) Cascading Classifiers, Kybernetika.\\n  - Ken Tang and Ponnuthurai N. Suganthan and Xi Yao and A. Kai Qin.\\n    Linear dimensionalityreduction using relevance weighted LDA. School of\\n    Electrical and Electronic Engineering Nanyang Technological University.\\n    2005.\\n  - Claudio Gentile. A New Approximate Maximal Margin Classification\\n    Algorithm. NIPS. 2000.\",\n",
              " 'data': array([[ 0.,  0.,  5., ...,  0.,  0.,  0.],\n",
              "        [ 0.,  0.,  0., ..., 10.,  0.,  0.],\n",
              "        [ 0.,  0.,  0., ..., 16.,  9.,  0.],\n",
              "        ...,\n",
              "        [ 0.,  0.,  1., ...,  6.,  0.,  0.],\n",
              "        [ 0.,  0.,  2., ..., 12.,  0.,  0.],\n",
              "        [ 0.,  0., 10., ..., 12.,  1.,  0.]]),\n",
              " 'images': array([[[ 0.,  0.,  5., ...,  1.,  0.,  0.],\n",
              "         [ 0.,  0., 13., ..., 15.,  5.,  0.],\n",
              "         [ 0.,  3., 15., ..., 11.,  8.,  0.],\n",
              "         ...,\n",
              "         [ 0.,  4., 11., ..., 12.,  7.,  0.],\n",
              "         [ 0.,  2., 14., ..., 12.,  0.,  0.],\n",
              "         [ 0.,  0.,  6., ...,  0.,  0.,  0.]],\n",
              " \n",
              "        [[ 0.,  0.,  0., ...,  5.,  0.,  0.],\n",
              "         [ 0.,  0.,  0., ...,  9.,  0.,  0.],\n",
              "         [ 0.,  0.,  3., ...,  6.,  0.,  0.],\n",
              "         ...,\n",
              "         [ 0.,  0.,  1., ...,  6.,  0.,  0.],\n",
              "         [ 0.,  0.,  1., ...,  6.,  0.,  0.],\n",
              "         [ 0.,  0.,  0., ..., 10.,  0.,  0.]],\n",
              " \n",
              "        [[ 0.,  0.,  0., ..., 12.,  0.,  0.],\n",
              "         [ 0.,  0.,  3., ..., 14.,  0.,  0.],\n",
              "         [ 0.,  0.,  8., ..., 16.,  0.,  0.],\n",
              "         ...,\n",
              "         [ 0.,  9., 16., ...,  0.,  0.,  0.],\n",
              "         [ 0.,  3., 13., ..., 11.,  5.,  0.],\n",
              "         [ 0.,  0.,  0., ..., 16.,  9.,  0.]],\n",
              " \n",
              "        ...,\n",
              " \n",
              "        [[ 0.,  0.,  1., ...,  1.,  0.,  0.],\n",
              "         [ 0.,  0., 13., ...,  2.,  1.,  0.],\n",
              "         [ 0.,  0., 16., ..., 16.,  5.,  0.],\n",
              "         ...,\n",
              "         [ 0.,  0., 16., ..., 15.,  0.,  0.],\n",
              "         [ 0.,  0., 15., ..., 16.,  0.,  0.],\n",
              "         [ 0.,  0.,  2., ...,  6.,  0.,  0.]],\n",
              " \n",
              "        [[ 0.,  0.,  2., ...,  0.,  0.,  0.],\n",
              "         [ 0.,  0., 14., ..., 15.,  1.,  0.],\n",
              "         [ 0.,  4., 16., ..., 16.,  7.,  0.],\n",
              "         ...,\n",
              "         [ 0.,  0.,  0., ..., 16.,  2.,  0.],\n",
              "         [ 0.,  0.,  4., ..., 16.,  2.,  0.],\n",
              "         [ 0.,  0.,  5., ..., 12.,  0.,  0.]],\n",
              " \n",
              "        [[ 0.,  0., 10., ...,  1.,  0.,  0.],\n",
              "         [ 0.,  2., 16., ...,  1.,  0.,  0.],\n",
              "         [ 0.,  0., 15., ..., 15.,  0.,  0.],\n",
              "         ...,\n",
              "         [ 0.,  4., 16., ..., 16.,  6.,  0.],\n",
              "         [ 0.,  8., 16., ..., 16.,  8.,  0.],\n",
              "         [ 0.,  1.,  8., ..., 12.,  1.,  0.]]]),\n",
              " 'target': array([0, 1, 2, ..., 8, 9, 8]),\n",
              " 'target_names': array([0, 1, 2, 3, 4, 5, 6, 7, 8, 9])}"
            ]
          },
          "metadata": {
            "tags": []
          },
          "execution_count": 2
        }
      ]
    },
    {
      "cell_type": "code",
      "metadata": {
        "colab": {
          "base_uri": "https://localhost:8080/",
          "height": 312
        },
        "id": "1cztJLaz-7dl",
        "outputId": "8d2a7508-c872-4a22-b8a5-09034488df30"
      },
      "source": [
        "pl.gray()\n",
        "pl.matshow(dataset.images[1796])\n",
        "pl.show\n",
        "\n",
        "# Disini saya mencoba mnelakukan plot image untuk melihat dataset yang terdiri dari banyak angka ini polanya seperti apa\n",
        "# Ternyata dataset  image dan array ini menyesuaikan target\n",
        "# Oleh karena itu target akan menjadi patokan utama kita pada saat memilih 2 kelas angka nantinya"
      ],
      "execution_count": 3,
      "outputs": [
        {
          "output_type": "execute_result",
          "data": {
            "text/plain": [
              "<function matplotlib.pyplot.show>"
            ]
          },
          "metadata": {
            "tags": []
          },
          "execution_count": 3
        },
        {
          "output_type": "display_data",
          "data": {
            "text/plain": [
              "<Figure size 432x288 with 0 Axes>"
            ]
          },
          "metadata": {
            "tags": []
          }
        },
        {
          "output_type": "display_data",
          "data": {
            "image/png": "[encoded data removed]",
            "text/plain": [
              "<Figure size 288x288 with 1 Axes>"
            ]
          },
          "metadata": {
            "tags": [],
            "needs_background": "light"
          }
        }
      ]
    },
    {
      "cell_type": "code",
      "metadata": {
        "id": "sQO99OdLDOvE"
      },
      "source": [
        "data_input = []\n",
        "data_output = []\n",
        "\n",
        "# Selanjutnya tiba ditahapan pemilihan 2 kelas yang ingin diklasifikasi nantinya\n",
        "# Saya membuat dua variabel penampung data, variabel data_input akan menampung data input yaitu 'data'\n",
        "# sedangkan data_output akan menampung data output yaitu 'target'"
      ],
      "execution_count": 4,
      "outputs": []
    },
    {
      "cell_type": "markdown",
      "metadata": {
        "id": "p6U0wRu_Kc38"
      },
      "source": [
        "### Class Selection"
      ]
    },
    {
      "cell_type": "code",
      "metadata": {
        "id": "_WvGf59uDWSp"
      },
      "source": [
        "for i in range (len(dataset.images)):\n",
        "    if dataset.target[i] == 1 or dataset.target[i] == 2:\n",
        "        data_input.append(dataset.data[i])\n",
        "        data_output.append(dataset.target[i])\n",
        "\n",
        "data_input = np.array(data_input)\n",
        "data_output = np.array(data_output)\n",
        "\n",
        "# Selanjutnya kita akan memasukkan 2 kelas yang sudah dipilih ke dalam variabel penampung data_input dan kedalam data_output\n",
        "# saya menggunakan looping sebanyak total dataset yang ada agar 2 kelas yang saya pilih yaitu angka 1 dan 2 masuk semua kedalam variabel penampung\n",
        "# data yang sudah diseleksi menggunakan fungsi if kemudian dimasukkan menggunakan fungsi append satu per satu\n",
        "# selanjutnya data diubah kedalam bentuk array menggunakan fungsi np.array agar bisa masuk kedalam tahap selanjutnya yaitu preprocess dan split data"
      ],
      "execution_count": 5,
      "outputs": []
    },
    {
      "cell_type": "markdown",
      "metadata": {
        "id": "DZR0C6_jMNH7"
      },
      "source": [
        "### Preprocess Data"
      ]
    },
    {
      "cell_type": "code",
      "metadata": {
        "id": "5rst5QBjcfwW"
      },
      "source": [
        "data_input = data_input.reshape((len(data_input), -1))\n",
        "data_output = data_output.reshape(data_output.shape[0], -1)\n",
        "\n",
        "data_output = MinMaxScaler().fit_transform(data_output)\n",
        "\n",
        "# Selanjutnya saya akan merubah bentuk data_input dan data_output, tujuan perubahan bentuk array ini agar bisa dikalkulasi nantinya kedalam fungsi feed forward\n",
        "# data_output akan dipreprocessing dengan MinMaxScaler sehingga menghasilkan data berupa 0 dan 1, hal ini dilakukan agar bisa disesuaikan dengan activation function yang akan digunakan nantinya yaitu hardlim/binary"
      ],
      "execution_count": 6,
      "outputs": []
    },
    {
      "cell_type": "markdown",
      "metadata": {
        "id": "HwhKykODSgGL"
      },
      "source": [
        "### Menghitung Weight dan Bias"
      ]
    },
    {
      "cell_type": "code",
      "metadata": {
        "id": "H6jSQDF0YPSF"
      },
      "source": [
        "weight = np.random.normal(size = (64, 1))\n",
        "bias = np.random.normal(size = 1)\n",
        "\n",
        "# Ditahap ini saya membuat weight dan bias dengan mengambil angka random menggunakan function np.random.normal\n",
        "# size yang ada pada weight dan bias disesuaikan dengan size pada data_input agar bisa dikalkulasikan nantinya di feed forward\n",
        "# size 1 di bias karena kita hanya membutuhkan 1 bias saja didalam SLP"
      ],
      "execution_count": 7,
      "outputs": []
    },
    {
      "cell_type": "markdown",
      "metadata": {
        "id": "GK_QtQfFWA9Y"
      },
      "source": [
        "### Menentukan Epoch dan Learning Rate"
      ]
    },
    {
      "cell_type": "code",
      "metadata": {
        "id": "X9snd60XD-K7"
      },
      "source": [
        "Epoch = 4000\n",
        "L_rate = 0.01\n",
        "\n",
        "# Pada soal ini saya menggunakan Epoch sejumlah 4000 dan Learning rate sebesar 0.01"
      ],
      "execution_count": 8,
      "outputs": []
    },
    {
      "cell_type": "markdown",
      "metadata": {
        "id": "ofeVPypMWNRs"
      },
      "source": [
        "### Split Dataset"
      ]
    },
    {
      "cell_type": "code",
      "metadata": {
        "id": "ahdpCLKyelKH"
      },
      "source": [
        "x_train, x_test, y_train, y_test = train_test_split(data_input, data_output, test_size=0.2)\n",
        "\n",
        "# Pada tahap ini saya akan melakukan split dataset untuk memisahkan data mana yang akan digunakan untuk training dan untuk testing baik itu data input maupun output\n",
        "# Saya menggunakan fungsi train_test_split() untuk proses split dataset ini dengan data_input sebagai x dan data_output sebagai y\n",
        "# Sesuai dengan soal saya memisahkan dataset ini dengan ketentuan 80% untuk training dan 20% untuk testing"
      ],
      "execution_count": 9,
      "outputs": []
    },
    {
      "cell_type": "markdown",
      "metadata": {
        "id": "dAonG1ynXOSV"
      },
      "source": [
        "### Feed Forward Function & Activation Function"
      ]
    },
    {
      "cell_type": "code",
      "metadata": {
        "id": "X7Xzwos9Ybs4"
      },
      "source": [
        "def feed_forward(data_input): \n",
        "    #W.P + b\n",
        "    value = np.matmul(data_input, weight) + bias\n",
        "    return activation_function(value) \n",
        "\n",
        "# Hard Limit Activation Function\n",
        "def activation_function(x):\n",
        "    if x >= 0:\n",
        "        return 1\n",
        "    else:\n",
        "        return 0\n",
        "\n",
        "# Selanjutnya saya akan membuat fungsi feed forward yang akan digunakan untuk perhitungan SLP dibawah ini lalu membuat fungsi activation\n",
        "# untuk fungsi feed_forward kita akan mengkalkulasi perkalian matriks antara variabel data_input dengan weight menggunakan np.matmul kemudian ditambahkan dengan bias\n",
        "# Sedangkan untuk activation function, saya menggunakan Hardlimit sebagai activation function"
      ],
      "execution_count": 10,
      "outputs": []
    },
    {
      "cell_type": "markdown",
      "metadata": {
        "id": "knuujXnaYhI_"
      },
      "source": [
        "### Melakukan Kalkulasi Single Layer Perceptron"
      ]
    },
    {
      "cell_type": "code",
      "metadata": {
        "id": "Mf0F52gZkmS9",
        "colab": {
          "base_uri": "https://localhost:8080/"
        },
        "outputId": "2658bb82-6717-4a86-b5b8-ba31db563e0d"
      },
      "source": [
        "\n",
        "for i in range(1, Epoch + 1):\n",
        "\n",
        "    #Calculate Error and Training\n",
        "    random_index = np.random.randint(0, len(x_train))\n",
        "    training = x_train[random_index]\n",
        "    \n",
        "    output_training = feed_forward(training)\n",
        "    error = y_train[random_index] - output_training\n",
        "    \n",
        "\n",
        "    #Update weight\n",
        "    weight = np.add(weight, np.array(training).reshape(64, 1) * L_rate * error)\n",
        "\n",
        "    #Update Bias\n",
        "    bias = bias + (L_rate * error)\n",
        "\n",
        "    #Testing Process\n",
        "    if i % 500 == 0:\n",
        "        correct = 0\n",
        "        for j , inp in enumerate(x_test):\n",
        "            output_testing = feed_forward(inp)\n",
        "            if output_testing == y_test[j]:\n",
        "                correct += 1\n",
        "              \n",
        "        print(f'Accuracy : {(correct/len(x_test)) * 100  :.2f}%')\n",
        "        print(f'Correct Result : {correct}\\n')\n",
        "\n",
        "    # Melalui fungsi ini saya akan menghitung detail seperti error, update weight, update bias, dan menghitung apakah klasifikasi kita tepat atau tidak menggunakan akurasi\n",
        "    # Saya melakukan loopting sebanyak epoch selanjutnya memanggil variabel randTndex untuk mencari nilai integer secara random dengan batasan sebanyak total data\n",
        "    # random_index digunakan untuk mengambil data secara acak saat proses data training nanti, sehingga model dapat belajar dengan berbagai pengetahuan baru\n",
        "    # Selanjutnya variabel data training akan memanggil data x_train secara random menggunakan variabel random_index sebagai penentu index mana yang akan kita gunakan\n",
        "    # Kemudian masuk kedalam tahap testing, saya akan melakukan test setiap 100 epoch sekali, dimana kita akan membandingkan output testing dengan y_test\n",
        "    # Apabila mendapatkan hasil yang sesuai maka variabel correct result akan bertambah 1, variabel ini nantinya akan digunakan untuk menghitung akurasi"
      ],
      "execution_count": 11,
      "outputs": [
        {
          "output_type": "stream",
          "text": [
            "Accuracy : 95.83%\n",
            "Correct Result : 69\n",
            "\n",
            "Accuracy : 100.00%\n",
            "Correct Result : 72\n",
            "\n",
            "Accuracy : 100.00%\n",
            "Correct Result : 72\n",
            "\n",
            "Accuracy : 100.00%\n",
            "Correct Result : 72\n",
            "\n",
            "Accuracy : 100.00%\n",
            "Correct Result : 72\n",
            "\n",
            "Accuracy : 100.00%\n",
            "Correct Result : 72\n",
            "\n",
            "Accuracy : 100.00%\n",
            "Correct Result : 72\n",
            "\n",
            "Accuracy : 100.00%\n",
            "Correct Result : 72\n",
            "\n"
          ],
          "name": "stdout"
        }
      ]
    },
    {
      "cell_type": "markdown",
      "metadata": {
        "id": "SXKHQKg2-loG"
      },
      "source": [
        "### Confusion Matrix"
      ]
    },
    {
      "cell_type": "code",
      "metadata": {
        "id": "XBgYkblPhHH-"
      },
      "source": [
        "y_pred = []\n",
        "for i in range(0, len(x_test)):\n",
        "    y_preds = feed_forward(x_test[i])\n",
        "    y_pred.append(y_preds)\n",
        "\n",
        "# Saya membuat sebuah variabel penampung guna untuk memasukkan data dari fungsi feed forward(x_test) sebagai hasil prediction menggunakan fungsi append"
      ],
      "execution_count": 12,
      "outputs": []
    },
    {
      "cell_type": "code",
      "metadata": {
        "colab": {
          "base_uri": "https://localhost:8080/",
          "height": 498
        },
        "id": "i4uaNcCmjTjo",
        "outputId": "8b0fc812-00aa-4e8b-f608-b2825956a92d"
      },
      "source": [
        "f, ax = plt.subplots(figsize=(8,8))\n",
        "sns.heatmap(confusion_matrix(y_test, y_pred), annot=True, fmt=\".0f\", ax=ax)\n",
        "plt.xlabel(\"y_head\")\n",
        "plt.ylabel(\"y_true\")\n",
        "plt.show()\n",
        "\n",
        "# Selanjutnya saya melakukan ploting untuk membuat confusion matrix dengan menggunakan library seaborn, matplotlib.pyplot, dan sklearn.metrics\n",
        "# Dapat dilihat bahwa hasil dari confusion matrix menunjukkan nilai yang cukup baik"
      ],
      "execution_count": 13,
      "outputs": [
        {
          "output_type": "display_data",
          "data": {
            "image/png": "[encoded data removed]",
            "text/plain": [
              "<Figure size 576x576 with 2 Axes>"
            ]
          },
          "metadata": {
            "tags": [],
            "needs_background": "light"
          }
        }
      ]
    },
    {
      "cell_type": "code",
      "metadata": {
        "id": "51nuCk0TShVS",
        "colab": {
          "base_uri": "https://localhost:8080/"
        },
        "outputId": "693f2430-e1d8-4537-afe5-5160ece0f206"
      },
      "source": [
        "print(classification_report(y_test, y_pred))\n",
        "\n",
        "# Selanjutnya saya mencetak classification report untuk melihat data precision, recall, dan akurasi. Ternyata data hasil predicition memiliki tingkat akurasi yang tinggi"
      ],
      "execution_count": 14,
      "outputs": [
        {
          "output_type": "stream",
          "text": [
            "              precision    recall  f1-score   support\n",
            "\n",
            "         0.0       1.00      1.00      1.00        39\n",
            "         1.0       1.00      1.00      1.00        33\n",
            "\n",
            "    accuracy                           1.00        72\n",
            "   macro avg       1.00      1.00      1.00        72\n",
            "weighted avg       1.00      1.00      1.00        72\n",
            "\n"
          ],
          "name": "stdout"
        }
      ]
    }
  ]
}