{
  "nbformat": 4,
  "nbformat_minor": 0,
  "metadata": {
    "colab": {
      "name": "UTS_2301869840_William Yulio [1]b.ipynb",
      "provenance": []
    },
    "kernelspec": {
      "name": "python3",
      "display_name": "Python 3"
    },
    "language_info": {
      "name": "python"
    }
  },
  "cells": [
    {
      "cell_type": "markdown",
      "metadata": {
        "id": "vnkHv_bxsQOf"
      },
      "source": [
        "Nama : William Yulio\n",
        "\n",
        "NIM : 2301869840\n",
        "\n",
        "Kelas : LD01"
      ]
    },
    {
      "cell_type": "markdown",
      "metadata": {
        "id": "OfUydmlDrPsC"
      },
      "source": [
        "### Import Library"
      ]
    },
    {
      "cell_type": "code",
      "metadata": {
        "id": "jXYU6LlFt93_"
      },
      "source": [
        "from sklearn.datasets import load_digits\n",
        "from sklearn.model_selection import train_test_split\n",
        "from sklearn.preprocessing import MinMaxScaler\n",
        "from sklearn import metrics\n",
        "import pylab as pl\n",
        "import numpy as np\n",
        "import pandas as pd\n",
        "import tensorflow as tf\n",
        "import matplotlib.pyplot as plt\n",
        "import seaborn as sn\n",
        "\n",
        "# Menginisialisasi library yang akan digunakan selama proses coding"
      ],
      "execution_count": 1,
      "outputs": []
    },
    {
      "cell_type": "markdown",
      "metadata": {
        "id": "uyID6HrZ1VHg"
      },
      "source": [
        "### Load Dataset"
      ]
    },
    {
      "cell_type": "code",
      "metadata": {
        "colab": {
          "base_uri": "https://localhost:8080/"
        },
        "id": "BJ8ZHMW68fa7",
        "outputId": "3b24d347-822d-4891-d58d-94131e556251"
      },
      "source": [
        "dataset = load_digits()\n",
        "dataset\n",
        "\n",
        "# Melakukan load dataset yang berasal dari libary \"from sklearn.datasets import load_digits\"\n",
        "# Saya memanggil dataset untuk melihat seperti apa bentuk dta aynag akan diolah nantinya dan melihat apakah dataset sudah berhasil diload apa belum\n",
        "# Dalam soal nomor 2 ini saya akan menggunakan banyak fungsi agar memudahkan dalam proses coding nantinya"
      ],
      "execution_count": 2,
      "outputs": [
        {
          "output_type": "execute_result",
          "data": {
            "text/plain": [
              "{'DESCR': \".. _digits_dataset:\\n\\nOptical recognition of handwritten digits dataset\\n--------------------------------------------------\\n\\n**Data Set Characteristics:**\\n\\n    :Number of Instances: 5620\\n    :Number of Attributes: 64\\n    :Attribute Information: 8x8 image of integer pixels in the range 0..16.\\n    :Missing Attribute Values: None\\n    :Creator: E. Alpaydin (alpaydin '@' boun.edu.tr)\\n    :Date: July; 1998\\n\\nThis is a copy of the test set of the UCI ML hand-written digits datasets\\nhttps://archive.ics.uci.edu/ml/datasets/Optical+Recognition+of+Handwritten+Digits\\n\\nThe data set contains images of hand-written digits: 10 classes where\\neach class refers to a digit.\\n\\nPreprocessing programs made available by NIST were used to extract\\nnormalized bitmaps of handwritten digits from a preprinted form. From a\\ntotal of 43 people, 30 contributed to the training set and different 13\\nto the test set. 32x32 bitmaps are divided into nonoverlapping blocks of\\n4x4 and the number of on pixels are counted in each block. This generates\\nan input matrix of 8x8 where each element is an integer in the range\\n0..16. This reduces dimensionality and gives invariance to small\\ndistortions.\\n\\nFor info on NIST preprocessing routines, see M. D. Garris, J. L. Blue, G.\\nT. Candela, D. L. Dimmick, J. Geist, P. J. Grother, S. A. Janet, and C.\\nL. Wilson, NIST Form-Based Handprint Recognition System, NISTIR 5469,\\n1994.\\n\\n.. topic:: References\\n\\n  - C. Kaynak (1995) Methods of Combining Multiple Classifiers and Their\\n    Applications to Handwritten Digit Recognition, MSc Thesis, Institute of\\n    Graduate Studies in Science and Engineering, Bogazici University.\\n  - E. Alpaydin, C. Kaynak (1998) Cascading Classifiers, Kybernetika.\\n  - Ken Tang and Ponnuthurai N. Suganthan and Xi Yao and A. Kai Qin.\\n    Linear dimensionalityreduction using relevance weighted LDA. School of\\n    Electrical and Electronic Engineering Nanyang Technological University.\\n    2005.\\n  - Claudio Gentile. A New Approximate Maximal Margin Classification\\n    Algorithm. NIPS. 2000.\",\n",
              " 'data': array([[ 0.,  0.,  5., ...,  0.,  0.,  0.],\n",
              "        [ 0.,  0.,  0., ..., 10.,  0.,  0.],\n",
              "        [ 0.,  0.,  0., ..., 16.,  9.,  0.],\n",
              "        ...,\n",
              "        [ 0.,  0.,  1., ...,  6.,  0.,  0.],\n",
              "        [ 0.,  0.,  2., ..., 12.,  0.,  0.],\n",
              "        [ 0.,  0., 10., ..., 12.,  1.,  0.]]),\n",
              " 'images': array([[[ 0.,  0.,  5., ...,  1.,  0.,  0.],\n",
              "         [ 0.,  0., 13., ..., 15.,  5.,  0.],\n",
              "         [ 0.,  3., 15., ..., 11.,  8.,  0.],\n",
              "         ...,\n",
              "         [ 0.,  4., 11., ..., 12.,  7.,  0.],\n",
              "         [ 0.,  2., 14., ..., 12.,  0.,  0.],\n",
              "         [ 0.,  0.,  6., ...,  0.,  0.,  0.]],\n",
              " \n",
              "        [[ 0.,  0.,  0., ...,  5.,  0.,  0.],\n",
              "         [ 0.,  0.,  0., ...,  9.,  0.,  0.],\n",
              "         [ 0.,  0.,  3., ...,  6.,  0.,  0.],\n",
              "         ...,\n",
              "         [ 0.,  0.,  1., ...,  6.,  0.,  0.],\n",
              "         [ 0.,  0.,  1., ...,  6.,  0.,  0.],\n",
              "         [ 0.,  0.,  0., ..., 10.,  0.,  0.]],\n",
              " \n",
              "        [[ 0.,  0.,  0., ..., 12.,  0.,  0.],\n",
              "         [ 0.,  0.,  3., ..., 14.,  0.,  0.],\n",
              "         [ 0.,  0.,  8., ..., 16.,  0.,  0.],\n",
              "         ...,\n",
              "         [ 0.,  9., 16., ...,  0.,  0.,  0.],\n",
              "         [ 0.,  3., 13., ..., 11.,  5.,  0.],\n",
              "         [ 0.,  0.,  0., ..., 16.,  9.,  0.]],\n",
              " \n",
              "        ...,\n",
              " \n",
              "        [[ 0.,  0.,  1., ...,  1.,  0.,  0.],\n",
              "         [ 0.,  0., 13., ...,  2.,  1.,  0.],\n",
              "         [ 0.,  0., 16., ..., 16.,  5.,  0.],\n",
              "         ...,\n",
              "         [ 0.,  0., 16., ..., 15.,  0.,  0.],\n",
              "         [ 0.,  0., 15., ..., 16.,  0.,  0.],\n",
              "         [ 0.,  0.,  2., ...,  6.,  0.,  0.]],\n",
              " \n",
              "        [[ 0.,  0.,  2., ...,  0.,  0.,  0.],\n",
              "         [ 0.,  0., 14., ..., 15.,  1.,  0.],\n",
              "         [ 0.,  4., 16., ..., 16.,  7.,  0.],\n",
              "         ...,\n",
              "         [ 0.,  0.,  0., ..., 16.,  2.,  0.],\n",
              "         [ 0.,  0.,  4., ..., 16.,  2.,  0.],\n",
              "         [ 0.,  0.,  5., ..., 12.,  0.,  0.]],\n",
              " \n",
              "        [[ 0.,  0., 10., ...,  1.,  0.,  0.],\n",
              "         [ 0.,  2., 16., ...,  1.,  0.,  0.],\n",
              "         [ 0.,  0., 15., ..., 15.,  0.,  0.],\n",
              "         ...,\n",
              "         [ 0.,  4., 16., ..., 16.,  6.,  0.],\n",
              "         [ 0.,  8., 16., ..., 16.,  8.,  0.],\n",
              "         [ 0.,  1.,  8., ..., 12.,  1.,  0.]]]),\n",
              " 'target': array([0, 1, 2, ..., 8, 9, 8]),\n",
              " 'target_names': array([0, 1, 2, 3, 4, 5, 6, 7, 8, 9])}"
            ]
          },
          "metadata": {
            "tags": []
          },
          "execution_count": 2
        }
      ]
    },
    {
      "cell_type": "markdown",
      "metadata": {
        "id": "p6U0wRu_Kc38"
      },
      "source": [
        "### Class Selection"
      ]
    },
    {
      "cell_type": "code",
      "metadata": {
        "id": "_WvGf59uDWSp"
      },
      "source": [
        "def class_selection(number):\n",
        "    data_input = []\n",
        "    data_output = []\n",
        "    for i in range (len(dataset.images)):\n",
        "        if dataset.target[i] == number:\n",
        "            dataset.target[i] = 1\n",
        "            data_input.append(dataset.data[i])\n",
        "            data_output.append(dataset.target[i])\n",
        "        else:\n",
        "            dataset.target[i] = 0\n",
        "            data_input.append(dataset.data[i])\n",
        "            data_output.append(dataset.target[i])\n",
        "\n",
        "    data_input = np.array(data_input)\n",
        "    data_output = np.array(data_output)\n",
        "    return data_input, data_output\n",
        "\n",
        "# Selanjutnya tiba ditahapan pemilihan kelas yang ingin diklasifikasi nantinya, kalau sebelumnya kita akan memilih dua kelas, namun kali ini kita kan menggunakan semua kelas\n",
        "# fungsi ini akan menerima parameter berupa kelas yang ingin kita klasifikasi\n",
        "# Jenis klasifikasi yang akan digunakan adalah 1 vS all class, jadi kita akan mengambil 1 kelas yang akan diklasifikasikan dengan semua kelas\n",
        "\n",
        "# Saya membuat dua variabel penampung data, variabel data_input akan menampung data input yaitu 'data'\n",
        "# sedangkan data_output akan menampung data output yaitu 'target'\n",
        "# Selanjutnya saya akan memilih dataset 1 kelas yang akan kita pilih menggunakan fungsi if, jika fungsi if menghasilkan nilai true maka dataset target akan menampungnya sebagai nilai 1\n",
        "# Apabila menghasilkan nilai false / yang artinya itu bukan merupakan kelas yang kita pilih maka akan diubah menjadi 0 dan dimasukkan kedalam dataset target\n",
        "# hal ini bertujuan untuk memudahkan dalam mengklasifikasi nantinya menggunakan activation function hardlim"
      ],
      "execution_count": 3,
      "outputs": []
    },
    {
      "cell_type": "markdown",
      "metadata": {
        "id": "DZR0C6_jMNH7"
      },
      "source": [
        "### Preprocess Data"
      ]
    },
    {
      "cell_type": "code",
      "metadata": {
        "id": "5rst5QBjcfwW"
      },
      "source": [
        "def preprocess_data(data_input, data_output):\n",
        "    data_input = data_input.reshape((len(data_input), -1))\n",
        "    data_output = data_output.reshape(data_output.shape[0], -1)\n",
        "\n",
        "    \n",
        "    return data_input, data_output\n",
        "# Selanjutnya saya akan merubah bentuk data_input dan data_output, tujuan perubahan bentuk array ini agar bisa dikalkulasi nantinya kedalam fungsi feed forward\n",
        "# data_output akan dipreprocessing dengan MinMaxScaler sehingga menghasilkan data berupa 0 dan 1, hal ini dilakukan agar bisa disesuaikan dengan activation function yang akan digunakan nantinya yaitu hardlim/binary"
      ],
      "execution_count": 4,
      "outputs": []
    },
    {
      "cell_type": "markdown",
      "metadata": {
        "id": "HwhKykODSgGL"
      },
      "source": [
        "### Menghitung Weight dan Bias"
      ]
    },
    {
      "cell_type": "code",
      "metadata": {
        "id": "H6jSQDF0YPSF"
      },
      "source": [
        "weight = np.random.normal(size = (64, 1))\n",
        "bias = np.random.normal(size = 1)\n",
        "\n",
        "# Ditahap ini saya membuat weight dan bias dengan mengambil angka random menggunakan function np.random.normal\n",
        "# size yang ada pada weight dan bias disesuaikan dengan size pada data_input agar bisa dikalkulasikan nantinya di feed forward\n",
        "# size 1 di bias karena kita hanya membutuhkan 1 bias saja didalam SLP"
      ],
      "execution_count": 5,
      "outputs": []
    },
    {
      "cell_type": "markdown",
      "metadata": {
        "id": "GK_QtQfFWA9Y"
      },
      "source": [
        "### Menentukan Epoch dan Learning Rate"
      ]
    },
    {
      "cell_type": "code",
      "metadata": {
        "id": "X9snd60XD-K7"
      },
      "source": [
        "Epoch = 4000\n",
        "L_rate = 0.01\n",
        "\n",
        "# Pada soal ini saya menggunakan Epoch sejumlah 4000 dan Learning rate sebesar 0.01"
      ],
      "execution_count": 6,
      "outputs": []
    },
    {
      "cell_type": "markdown",
      "metadata": {
        "id": "ofeVPypMWNRs"
      },
      "source": [
        "### Split Dataset"
      ]
    },
    {
      "cell_type": "code",
      "metadata": {
        "id": "ahdpCLKyelKH"
      },
      "source": [
        "def split_dataset(data_input, data_output):\n",
        "    x_train, x_test, y_train, y_test = train_test_split(data_input, data_output, test_size=0.2)\n",
        "    return x_train, x_test, y_train, y_test\n",
        "# Pada tahap ini saya akan melakukan split dataset untuk memisahkan data mana yang akan digunakan untuk training dan untuk testing baik itu data input maupun output\n",
        "# Saya menggunakan fungsi train_test_split() untuk proses split dataset ini dengan data_input sebagai x dan data_output sebagai y\n",
        "# Sesuai dengan soal saya memisahkan dataset ini dengan ketentuan 80% untuk training dan 20% untuk testing"
      ],
      "execution_count": 7,
      "outputs": []
    },
    {
      "cell_type": "markdown",
      "metadata": {
        "id": "dAonG1ynXOSV"
      },
      "source": [
        "### Feed Forward Function & Activation Function"
      ]
    },
    {
      "cell_type": "code",
      "metadata": {
        "id": "X7Xzwos9Ybs4"
      },
      "source": [
        "def feed_forward(data_input): #W.P + b\n",
        "    value = np.matmul(data_input, weight) + bias\n",
        "    return activation_function(value) \n",
        "\n",
        "# Hard Limit Activation Function\n",
        "def activation_function(x):\n",
        "    if x >= 0:\n",
        "        return 1\n",
        "    else:\n",
        "        return 0\n",
        "\n",
        "# Selanjutnya saya akan membuat fungsi feed forward yang akan digunakan untuk perhitungan SLP dibawah ini lalu membuat fungsi activation\n",
        "# untuk fungsi feed_forward kita akan mengkalkulasi perkalian matriks antara variabel data_input dengan weight menggunakan np.matmul kemudian ditambahkan dengan bias\n",
        "# Sedangkan untuk activation function, saya menggunakan Hardlimit sebagai activation function"
      ],
      "execution_count": 8,
      "outputs": []
    },
    {
      "cell_type": "markdown",
      "metadata": {
        "id": "knuujXnaYhI_"
      },
      "source": [
        "### Melakukan Kalkulasi Single Layer Perceptron"
      ]
    },
    {
      "cell_type": "code",
      "metadata": {
        "id": "Mf0F52gZkmS9"
      },
      "source": [
        "def SLP(x_train, x_test, y_train, y_test, weight, bias):\n",
        "    for i in range(1, Epoch + 1):\n",
        "        random_index = np.random.randint(0, len(x_train))\n",
        "        training = x_train[random_index]\n",
        "    \n",
        "        output_training = feed_forward(training)\n",
        "        error = y_train[random_index] - output_training\n",
        "    \n",
        "\n",
        "    #update weight\n",
        "        weight = np.add(weight, np.array(training).reshape(64, 1) * L_rate * error)\n",
        "\n",
        "    #update Bias\n",
        "        bias = bias + (L_rate * error)\n",
        "\n",
        "    #testing\n",
        "        if i % 1000 == 0:\n",
        "            correct = 0\n",
        "            for j , inp in enumerate(x_test):\n",
        "                output_testing = feed_forward(inp)\n",
        "                if output_testing == y_test[j]:\n",
        "                    correct += 1\n",
        "              \n",
        "            print(f'Accuracy : {(correct/len(x_test)) * 100  :.2f}%')\n",
        "            print(f'Correct Result : {correct}\\n')\n",
        "\n",
        "    # Perbedaan yang muncul pada fungsi SLP ini adalah fungsi ini akan menerima parameter berpa hasil split data\n",
        "    # Melalui fungsi ini saya akan menghitung detail seperti error, update weight, update bias, dan menghitung apakah klasifikasi kita tepat atau tidak menggunakan akurasi\n",
        "    # Saya melakukan loopting sebanyak epoch selanjutnya memanggil variabel randTndex untuk mencari nilai integer secara random dengan batasan sebanyak total data\n",
        "    # random_index digunakan untuk mengambil data secara acak saat proses data training nanti, sehingga model dapat belajar dengan berbagai pengetahuan baru\n",
        "    # Selanjutnya variabel data training akan memanggil data x_train secara random menggunakan variabel random_index sebagai penentu index mana yang akan kita gunakan\n",
        "    # Kemudian masuk kedalam tahap testing, saya akan melakukan test setiap 1000 epoch sekali, dimana kita akan membandingkan output testing dengan y_test\n",
        "    # Apabila mendapatkan hasil yang sesuai maka variabel correct result akan bertambah 1, variabel ini nantinya akan digunakan untuk menghitung akurasi"
      ],
      "execution_count": 9,
      "outputs": []
    },
    {
      "cell_type": "markdown",
      "metadata": {
        "id": "yludJPMpGTUO"
      },
      "source": [
        "Selanjutnya tiba dibagian pembuatan model untuk soal nomor 2, strategi saya untuk menjawab soal nomor 2 adalah dengan menggunakan 10 model untuk setiap anggkanya. Hal ini saya lakukan karena single perceptron hanya bisa mengklasifikasi 2 kelas dan menghasilkan hanya 2 output saja. Sehingga apabila saya gabungkan menjadi 1 model maka akan menghasilkan akurasi yang sangat buruk."
      ]
    },
    {
      "cell_type": "markdown",
      "metadata": {
        "id": "ZSzpAy3mGwzg"
      },
      "source": [
        "Pada semua model dibawah ini, saya tinggal memanggil fungsi fungsi yang sudah saya buat sebelumnya. Sehingga dapat dilihat akurasi dari setiap kelas yang dipilih ketika diklasifikasi dengan seluruh kelas yang ada"
      ]
    },
    {
      "cell_type": "markdown",
      "metadata": {
        "id": "9fDrrRYzmhxc"
      },
      "source": [
        "### 0 VS ALL"
      ]
    },
    {
      "cell_type": "code",
      "metadata": {
        "id": "rTuPg7duShTB"
      },
      "source": [
        "data_input, data_output = class_selection(0)"
      ],
      "execution_count": 10,
      "outputs": []
    },
    {
      "cell_type": "code",
      "metadata": {
        "id": "rydOLvncShQc"
      },
      "source": [
        "data_input, data_output = preprocess_data(data_input, data_output)"
      ],
      "execution_count": 11,
      "outputs": []
    },
    {
      "cell_type": "code",
      "metadata": {
        "id": "OP04sX2UShON"
      },
      "source": [
        "x_train, x_test, y_train, y_test = split_dataset(data_input, data_output)"
      ],
      "execution_count": 12,
      "outputs": []
    },
    {
      "cell_type": "code",
      "metadata": {
        "id": "Y61cAZOLShLz",
        "colab": {
          "base_uri": "https://localhost:8080/"
        },
        "outputId": "d74c513f-6727-45c8-d193-ebc526a4b72c"
      },
      "source": [
        "Output = SLP(x_train, x_test, y_train, y_test, weight, bias)"
      ],
      "execution_count": 13,
      "outputs": [
        {
          "output_type": "stream",
          "text": [
            "Accuracy : 80.28%\n",
            "Correct Result : 289\n",
            "\n",
            "Accuracy : 80.28%\n",
            "Correct Result : 289\n",
            "\n",
            "Accuracy : 80.28%\n",
            "Correct Result : 289\n",
            "\n",
            "Accuracy : 80.28%\n",
            "Correct Result : 289\n",
            "\n"
          ],
          "name": "stdout"
        }
      ]
    },
    {
      "cell_type": "markdown",
      "metadata": {
        "id": "-pNHhj70m95T"
      },
      "source": [
        "### 1 VS ALL"
      ]
    },
    {
      "cell_type": "code",
      "metadata": {
        "id": "zAte_TDcmug4"
      },
      "source": [
        "data_input, data_output = class_selection(1)"
      ],
      "execution_count": 14,
      "outputs": []
    },
    {
      "cell_type": "code",
      "metadata": {
        "id": "FO8b8Ddjmug5"
      },
      "source": [
        "data_input, data_output = preprocess_data(data_input, data_output)"
      ],
      "execution_count": 15,
      "outputs": []
    },
    {
      "cell_type": "code",
      "metadata": {
        "id": "hqknYSJFmug6"
      },
      "source": [
        "x_train, x_test, y_train, y_test = split_dataset(data_input, data_output)"
      ],
      "execution_count": 16,
      "outputs": []
    },
    {
      "cell_type": "code",
      "metadata": {
        "colab": {
          "base_uri": "https://localhost:8080/"
        },
        "id": "_D5Kt1bqmug7",
        "outputId": "e222c75a-f036-4f39-95b9-bf914acf9692"
      },
      "source": [
        "Output = SLP(x_train, x_test, y_train, y_test, weight, bias)"
      ],
      "execution_count": 17,
      "outputs": [
        {
          "output_type": "stream",
          "text": [
            "Accuracy : 80.28%\n",
            "Correct Result : 289\n",
            "\n",
            "Accuracy : 80.28%\n",
            "Correct Result : 289\n",
            "\n",
            "Accuracy : 80.28%\n",
            "Correct Result : 289\n",
            "\n",
            "Accuracy : 80.28%\n",
            "Correct Result : 289\n",
            "\n"
          ],
          "name": "stdout"
        }
      ]
    },
    {
      "cell_type": "markdown",
      "metadata": {
        "id": "2ezPSntVntoD"
      },
      "source": [
        "### 2 VS ALL"
      ]
    },
    {
      "cell_type": "code",
      "metadata": {
        "id": "a8FVaL-InRu5"
      },
      "source": [
        "data_input, data_output = class_selection(2)"
      ],
      "execution_count": 18,
      "outputs": []
    },
    {
      "cell_type": "code",
      "metadata": {
        "id": "0bLThi2_nRu7"
      },
      "source": [
        "data_input, data_output = preprocess_data(data_input, data_output)"
      ],
      "execution_count": 19,
      "outputs": []
    },
    {
      "cell_type": "code",
      "metadata": {
        "id": "O2GnkQmwnRu7"
      },
      "source": [
        "x_train, x_test, y_train, y_test = split_dataset(data_input, data_output)"
      ],
      "execution_count": 20,
      "outputs": []
    },
    {
      "cell_type": "code",
      "metadata": {
        "colab": {
          "base_uri": "https://localhost:8080/"
        },
        "id": "zRdwg3HnnRu8",
        "outputId": "f553f2df-e742-42a6-daf9-1a60472ef722"
      },
      "source": [
        "Output = SLP(x_train, x_test, y_train, y_test, weight, bias)"
      ],
      "execution_count": 21,
      "outputs": [
        {
          "output_type": "stream",
          "text": [
            "Accuracy : 88.61%\n",
            "Correct Result : 319\n",
            "\n",
            "Accuracy : 88.61%\n",
            "Correct Result : 319\n",
            "\n",
            "Accuracy : 88.61%\n",
            "Correct Result : 319\n",
            "\n",
            "Accuracy : 88.61%\n",
            "Correct Result : 319\n",
            "\n"
          ],
          "name": "stdout"
        }
      ]
    },
    {
      "cell_type": "markdown",
      "metadata": {
        "id": "nkdEnoJWnvpm"
      },
      "source": [
        "### 3 VS ALL"
      ]
    },
    {
      "cell_type": "code",
      "metadata": {
        "id": "t7XFBnNVnTSa"
      },
      "source": [
        "data_input, data_output = class_selection(3)"
      ],
      "execution_count": 22,
      "outputs": []
    },
    {
      "cell_type": "code",
      "metadata": {
        "id": "ptJUhI32nTSb"
      },
      "source": [
        "data_input, data_output = preprocess_data(data_input, data_output)"
      ],
      "execution_count": 23,
      "outputs": []
    },
    {
      "cell_type": "code",
      "metadata": {
        "id": "GX8XRfpznTSb"
      },
      "source": [
        "x_train, x_test, y_train, y_test = split_dataset(data_input, data_output)"
      ],
      "execution_count": 24,
      "outputs": []
    },
    {
      "cell_type": "code",
      "metadata": {
        "colab": {
          "base_uri": "https://localhost:8080/"
        },
        "id": "FPCD0Qu3nTSc",
        "outputId": "8d9c6946-f638-4535-aedf-9fd78fc822a4"
      },
      "source": [
        "Output = SLP(x_train, x_test, y_train, y_test, weight, bias)"
      ],
      "execution_count": 25,
      "outputs": [
        {
          "output_type": "stream",
          "text": [
            "Accuracy : 90.83%\n",
            "Correct Result : 327\n",
            "\n",
            "Accuracy : 90.83%\n",
            "Correct Result : 327\n",
            "\n",
            "Accuracy : 90.83%\n",
            "Correct Result : 327\n",
            "\n",
            "Accuracy : 90.83%\n",
            "Correct Result : 327\n",
            "\n"
          ],
          "name": "stdout"
        }
      ]
    },
    {
      "cell_type": "markdown",
      "metadata": {
        "id": "Kag7tqWRnxvd"
      },
      "source": [
        "### 4 VS ALL"
      ]
    },
    {
      "cell_type": "code",
      "metadata": {
        "id": "Vz8kIfMknUdf"
      },
      "source": [
        "data_input, data_output = class_selection(4)"
      ],
      "execution_count": 26,
      "outputs": []
    },
    {
      "cell_type": "code",
      "metadata": {
        "id": "qL543zOXnUdg"
      },
      "source": [
        "data_input, data_output = preprocess_data(data_input, data_output)"
      ],
      "execution_count": 27,
      "outputs": []
    },
    {
      "cell_type": "code",
      "metadata": {
        "id": "86fHe-XPnUdg"
      },
      "source": [
        "x_train, x_test, y_train, y_test = split_dataset(data_input, data_output)"
      ],
      "execution_count": 28,
      "outputs": []
    },
    {
      "cell_type": "code",
      "metadata": {
        "colab": {
          "base_uri": "https://localhost:8080/"
        },
        "id": "mb6BEVNUnUdh",
        "outputId": "b2ae182e-6d03-4c38-a594-699c920c185e"
      },
      "source": [
        "Output = SLP(x_train, x_test, y_train, y_test, weight, bias)"
      ],
      "execution_count": 29,
      "outputs": [
        {
          "output_type": "stream",
          "text": [
            "Accuracy : 89.17%\n",
            "Correct Result : 321\n",
            "\n",
            "Accuracy : 89.17%\n",
            "Correct Result : 321\n",
            "\n",
            "Accuracy : 89.17%\n",
            "Correct Result : 321\n",
            "\n",
            "Accuracy : 89.17%\n",
            "Correct Result : 321\n",
            "\n"
          ],
          "name": "stdout"
        }
      ]
    },
    {
      "cell_type": "markdown",
      "metadata": {
        "id": "k6blX-aUn_jT"
      },
      "source": [
        "### 5 VS ALL"
      ]
    },
    {
      "cell_type": "code",
      "metadata": {
        "id": "lsEBW3eGn_jU"
      },
      "source": [
        "data_input, data_output = class_selection(5)"
      ],
      "execution_count": 30,
      "outputs": []
    },
    {
      "cell_type": "code",
      "metadata": {
        "id": "J9cRcrZDn_jV"
      },
      "source": [
        "data_input, data_output = preprocess_data(data_input, data_output)"
      ],
      "execution_count": 31,
      "outputs": []
    },
    {
      "cell_type": "code",
      "metadata": {
        "id": "VhLfeahSn_jX"
      },
      "source": [
        "x_train, x_test, y_train, y_test = split_dataset(data_input, data_output)"
      ],
      "execution_count": 32,
      "outputs": []
    },
    {
      "cell_type": "code",
      "metadata": {
        "colab": {
          "base_uri": "https://localhost:8080/"
        },
        "id": "8-XipVxpn_jX",
        "outputId": "ea217f62-9c8b-4c64-c432-d9b17da6bfa8"
      },
      "source": [
        "Output = SLP(x_train, x_test, y_train, y_test, weight, bias)"
      ],
      "execution_count": 33,
      "outputs": [
        {
          "output_type": "stream",
          "text": [
            "Accuracy : 89.17%\n",
            "Correct Result : 321\n",
            "\n",
            "Accuracy : 89.17%\n",
            "Correct Result : 321\n",
            "\n",
            "Accuracy : 89.17%\n",
            "Correct Result : 321\n",
            "\n",
            "Accuracy : 89.17%\n",
            "Correct Result : 321\n",
            "\n"
          ],
          "name": "stdout"
        }
      ]
    },
    {
      "cell_type": "markdown",
      "metadata": {
        "id": "KDdkVBpMoAfK"
      },
      "source": [
        "### 6 VS ALL"
      ]
    },
    {
      "cell_type": "code",
      "metadata": {
        "id": "PVrQrTGtoAfL"
      },
      "source": [
        "data_input, data_output = class_selection(6)"
      ],
      "execution_count": 34,
      "outputs": []
    },
    {
      "cell_type": "code",
      "metadata": {
        "id": "OEXhJuMdoAfN"
      },
      "source": [
        "data_input, data_output = preprocess_data(data_input, data_output)"
      ],
      "execution_count": 35,
      "outputs": []
    },
    {
      "cell_type": "code",
      "metadata": {
        "id": "ICgCqfB5oAfP"
      },
      "source": [
        "x_train, x_test, y_train, y_test = split_dataset(data_input, data_output)"
      ],
      "execution_count": 36,
      "outputs": []
    },
    {
      "cell_type": "code",
      "metadata": {
        "colab": {
          "base_uri": "https://localhost:8080/"
        },
        "id": "KlQt3H8HoAfP",
        "outputId": "634a0de4-f464-48d9-8ff1-e77de936947d"
      },
      "source": [
        "Output = SLP(x_train, x_test, y_train, y_test, weight, bias)"
      ],
      "execution_count": 37,
      "outputs": [
        {
          "output_type": "stream",
          "text": [
            "Accuracy : 85.56%\n",
            "Correct Result : 308\n",
            "\n",
            "Accuracy : 85.56%\n",
            "Correct Result : 308\n",
            "\n",
            "Accuracy : 85.56%\n",
            "Correct Result : 308\n",
            "\n",
            "Accuracy : 85.56%\n",
            "Correct Result : 308\n",
            "\n"
          ],
          "name": "stdout"
        }
      ]
    },
    {
      "cell_type": "markdown",
      "metadata": {
        "id": "jAWrQwyroBPQ"
      },
      "source": [
        "### 7 VS ALL"
      ]
    },
    {
      "cell_type": "code",
      "metadata": {
        "id": "CONWrVMXoBPQ"
      },
      "source": [
        "data_input, data_output = class_selection(7)"
      ],
      "execution_count": 38,
      "outputs": []
    },
    {
      "cell_type": "code",
      "metadata": {
        "id": "nyv6V3WeoBPR"
      },
      "source": [
        "data_input, data_output = preprocess_data(data_input, data_output)"
      ],
      "execution_count": 39,
      "outputs": []
    },
    {
      "cell_type": "code",
      "metadata": {
        "id": "r5AUevXFoBPR"
      },
      "source": [
        "x_train, x_test, y_train, y_test = split_dataset(data_input, data_output)"
      ],
      "execution_count": 40,
      "outputs": []
    },
    {
      "cell_type": "code",
      "metadata": {
        "colab": {
          "base_uri": "https://localhost:8080/"
        },
        "id": "T4avGvSxoBPR",
        "outputId": "df63964b-0991-4733-8800-16ed122f58e5"
      },
      "source": [
        "Output = SLP(x_train, x_test, y_train, y_test, weight, bias)"
      ],
      "execution_count": 41,
      "outputs": [
        {
          "output_type": "stream",
          "text": [
            "Accuracy : 89.17%\n",
            "Correct Result : 321\n",
            "\n",
            "Accuracy : 89.17%\n",
            "Correct Result : 321\n",
            "\n",
            "Accuracy : 89.17%\n",
            "Correct Result : 321\n",
            "\n",
            "Accuracy : 89.17%\n",
            "Correct Result : 321\n",
            "\n"
          ],
          "name": "stdout"
        }
      ]
    },
    {
      "cell_type": "markdown",
      "metadata": {
        "id": "I8uwmbDMoCLb"
      },
      "source": [
        "### 8 VS ALL"
      ]
    },
    {
      "cell_type": "code",
      "metadata": {
        "id": "s-xex8n8oCLc"
      },
      "source": [
        "data_input, data_output = class_selection(8)"
      ],
      "execution_count": 42,
      "outputs": []
    },
    {
      "cell_type": "code",
      "metadata": {
        "id": "1eSq2BXToCLc"
      },
      "source": [
        "data_input, data_output = preprocess_data(data_input, data_output)"
      ],
      "execution_count": 43,
      "outputs": []
    },
    {
      "cell_type": "code",
      "metadata": {
        "id": "dMsrGhO0oCLd"
      },
      "source": [
        "x_train, x_test, y_train, y_test = split_dataset(data_input, data_output)"
      ],
      "execution_count": 44,
      "outputs": []
    },
    {
      "cell_type": "code",
      "metadata": {
        "colab": {
          "base_uri": "https://localhost:8080/"
        },
        "id": "BQtylk6roCLd",
        "outputId": "921c18b1-22b6-40d5-81ce-ea8f6cdb0072"
      },
      "source": [
        "Output = SLP(x_train, x_test, y_train, y_test, weight, bias)"
      ],
      "execution_count": 45,
      "outputs": [
        {
          "output_type": "stream",
          "text": [
            "Accuracy : 92.22%\n",
            "Correct Result : 332\n",
            "\n",
            "Accuracy : 92.22%\n",
            "Correct Result : 332\n",
            "\n",
            "Accuracy : 92.22%\n",
            "Correct Result : 332\n",
            "\n",
            "Accuracy : 92.22%\n",
            "Correct Result : 332\n",
            "\n"
          ],
          "name": "stdout"
        }
      ]
    },
    {
      "cell_type": "markdown",
      "metadata": {
        "id": "5aAP_SYKoFNf"
      },
      "source": [
        "### 9 VS ALL"
      ]
    },
    {
      "cell_type": "code",
      "metadata": {
        "id": "bjp8z46uoFNg"
      },
      "source": [
        "data_input, data_output = class_selection(9)"
      ],
      "execution_count": 46,
      "outputs": []
    },
    {
      "cell_type": "code",
      "metadata": {
        "id": "mszGf36ToFNg"
      },
      "source": [
        "data_input, data_output = preprocess_data(data_input, data_output)"
      ],
      "execution_count": 47,
      "outputs": []
    },
    {
      "cell_type": "code",
      "metadata": {
        "id": "Q3qpn-bPoFNh"
      },
      "source": [
        "x_train, x_test, y_train, y_test = split_dataset(data_input, data_output)"
      ],
      "execution_count": 48,
      "outputs": []
    },
    {
      "cell_type": "code",
      "metadata": {
        "colab": {
          "base_uri": "https://localhost:8080/"
        },
        "id": "k0cn1ElBoFNh",
        "outputId": "15bdb8fe-e7b2-41cd-c1ef-6e7249ea8160"
      },
      "source": [
        "Output = SLP(x_train, x_test, y_train, y_test, weight, bias)"
      ],
      "execution_count": 49,
      "outputs": [
        {
          "output_type": "stream",
          "text": [
            "Accuracy : 90.56%\n",
            "Correct Result : 326\n",
            "\n",
            "Accuracy : 90.56%\n",
            "Correct Result : 326\n",
            "\n",
            "Accuracy : 90.56%\n",
            "Correct Result : 326\n",
            "\n",
            "Accuracy : 90.56%\n",
            "Correct Result : 326\n",
            "\n"
          ],
          "name": "stdout"
        }
      ]
    }
  ]
}