{
  "nbformat": 4,
  "nbformat_minor": 0,
  "metadata": {
    "colab": {
      "name": "UTS_2301869840_William Yulio [2].ipynb",
      "provenance": []
    },
    "kernelspec": {
      "name": "python3",
      "display_name": "Python 3"
    },
    "language_info": {
      "name": "python"
    }
  },
  "cells": [
    {
      "cell_type": "markdown",
      "metadata": {
        "id": "q3ViIqdfbz2x"
      },
      "source": [
        "Nama : William Yulio\n",
        "\n",
        "NIM : 2301869840\n",
        "\n",
        "Kelas : LD01"
      ]
    },
    {
      "cell_type": "markdown",
      "metadata": {
        "id": "dTFdIjs1IBNW"
      },
      "source": [
        "##Import Library"
      ]
    },
    {
      "cell_type": "code",
      "metadata": {
        "id": "6U2qw7RUuRJT"
      },
      "source": [
        "#Import Library\n",
        "import pandas as pd\n",
        "import numpy as np\n",
        "from sklearn.preprocessing import MinMaxScaler, OneHotEncoder, StandardScaler \n",
        "from sklearn.model_selection import train_test_split\n",
        "from sklearn.metrics import accuracy_score"
      ],
      "execution_count": 1,
      "outputs": []
    },
    {
      "cell_type": "markdown",
      "metadata": {
        "id": "c-6U8giXvJd5"
      },
      "source": [
        "### Load Dataset"
      ]
    },
    {
      "cell_type": "code",
      "metadata": {
        "id": "qcV5Pqz4uU3C"
      },
      "source": [
        "feature = np.array([\n",
        "        [0.08, 0.72], \n",
        "        [0.2, 0.5],\n",
        "        [0.24, 0.30],\n",
        "        [0.35, 0.35],\n",
        "        [0.45, 0.50],\n",
        "        [0.2, 0.48],\n",
        "        [0.1, 1.0],\n",
        "        [0.36, 0.75],\n",
        "        [0.52, 0.24],\n",
        "        [0.70, 0.65],\n",
        "        [0.80, 0.26],\n",
        "        [0.92, 0.45]]\n",
        "    )\n",
        "\n",
        "label= [1, 1, 1, 1, 1, -1, -1, -1, -1, -1, -1, -1]\n",
        "\n",
        "# Melakukan load dataset sesuai dengan data yang ada pada soal"
      ],
      "execution_count": 2,
      "outputs": []
    },
    {
      "cell_type": "code",
      "metadata": {
        "id": "tzcJ7AchgHB1"
      },
      "source": [
        "weight = np.array([\n",
        "          [1.2,0.38],\n",
        "          [-1,1.3],\n",
        "          [0.8,0.2],\n",
        "\n",
        "])\n",
        "\n",
        "bias = [\n",
        "        [-0.456, -0.1, -1.2]\n",
        "]\n",
        "#Selanjutnya adalah hasil dari perhitungan bias dan weight didalam word"
      ],
      "execution_count": 3,
      "outputs": []
    },
    {
      "cell_type": "code",
      "metadata": {
        "id": "pF9OwCJPHVmP",
        "colab": {
          "base_uri": "https://localhost:8080/"
        },
        "outputId": "09915d9e-e0c7-43ad-def4-855bf94868b6"
      },
      "source": [
        "\n",
        "def sigmoid(var): \n",
        "    return(1 / (1 + np.exp(-var)))\n",
        "#Forward Pass\n",
        "\n",
        "def forward_pass(var, weight):\n",
        "    result = np.matmul(var, weight) + bias\n",
        "    return sigmoid(result)\n",
        "\n",
        "transpose_weight = weight.transpose()\n",
        "result = forward_pass(feature,transpose_weight)\n",
        "\n",
        "print(result)\n",
        "\n",
        "\n",
        "   # Setelah semua data sudah diolah maka data tersebut akan masuk kedalam fungsi fungsi tersebut\n",
        "   # pertama tama kita akan melakukan transposer terhadap weight yang sudah kita kalkulasi sebelumnya di word, tujuannya adalah agar weight nantinya bisa dikalkulasi kedalam forward pass\n",
        "   # selanjutnya saya membuat variabel result yang akan menampung hasil dari weight dan bias yang baru untuk layer selanjutnya dengan memanggil fungsi forward_pass()\n",
        "   # Demikian yang saya bisa kerjakan untuk nomor 2 pak, untuk detail dari inisialisasi nilai weight dan bias di awal sudah saya tulis di word dengan judul \"jawaban no.2\"\n",
        "   # Sebelumnya mohon maaf pak, kalau saya hanya bisa sampai ditahap mencari weight untuk dan bias untuk input menuju ke hidden layer saja, untuk hidden layer menuju ke output saya belum menemukan cara yang tepat pak"
      ],
      "execution_count": 4,
      "outputs": [
        {
          "output_type": "stream",
          "text": [
            "[[0.47841343 0.68048466 0.27051722]\n",
            " [0.49350037 0.58661758 0.28090034]\n",
            " [0.48650328 0.5124974  0.27928722]\n",
            " [0.524231   0.50125    0.29943286]\n",
            " [0.56807463 0.52497919 0.32300414]\n",
            " [0.49160079 0.58029877 0.28009307]\n",
            " [0.51099823 0.75026011 0.28495789]\n",
            " [0.5648821  0.62597786 0.3182122 ]\n",
            " [0.56443962 0.42360299 0.32387945]\n",
            " [0.65271617 0.5112481  0.37519353]\n",
            " [0.64629664 0.36308482 0.37566249]\n",
            " [0.69402403 0.39293301 0.40757484]]\n"
          ],
          "name": "stdout"
        }
      ]
    }
  ]
}