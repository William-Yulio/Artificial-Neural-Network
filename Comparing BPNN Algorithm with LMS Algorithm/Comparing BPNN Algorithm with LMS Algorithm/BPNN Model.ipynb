{
  "nbformat": 4,
  "nbformat_minor": 0,
  "metadata": {
    "colab": {
      "name": "BPNN.ipynb",
      "provenance": [],
      "collapsed_sections": []
    },
    "kernelspec": {
      "name": "python3",
      "display_name": "Python 3"
    }
  },
  "cells": [
    {
      "cell_type": "markdown",
      "metadata": {
        "id": "tBpP_fa94QgG"
      },
      "source": [
        "##Practical Example of BPNN\n",
        "\n",
        "credit: https://machinelearningmastery.com/implement-backpropagation-algorithm-scratch-python/"
      ]
    },
    {
      "cell_type": "code",
      "metadata": {
        "id": "sUT9ftok3_EJ"
      },
      "source": [
        "from random import seed\n",
        "from random import random\n",
        "\n",
        "from math import exp\n",
        "import numpy as np\n"
      ],
      "execution_count": 1,
      "outputs": []
    },
    {
      "cell_type": "code",
      "metadata": {
        "id": "pg_mZtgmX2e1"
      },
      "source": [
        "# Input Data\n",
        "w = np.array([0.5, 0.3])\n",
        "bias = 0.1\n",
        "alpha = 0.5\n",
        "Epoch = 2\n",
        "momentum = 0.7"
      ],
      "execution_count": 2,
      "outputs": []
    },
    {
      "cell_type": "code",
      "metadata": {
        "id": "5_HCckmV4Mgm",
        "colab": {
          "base_uri": "https://localhost:8080/"
        },
        "outputId": "8580173d-5297-4bca-b8f1-92752f86f3e8"
      },
      "source": [
        " # Initialize a network, and randomly assign the weights\n",
        "def initialize_network(n_inputs, n_hidden, n_outputs):\n",
        "\tnetwork = list()\n",
        "\thidden_layer = [{'weights':[random() for i in range(n_inputs + 1)]} for i in range(n_hidden)]\n",
        "\tnetwork.append(hidden_layer)\n",
        "\toutput_layer = [{'weights':[random() for i in range(n_hidden + 1)]} for i in range(n_outputs)]\n",
        "\tnetwork.append(output_layer)\n",
        "\treturn network\n",
        "\n",
        "network = initialize_network(2, 1, 1)\n",
        "for layer in network:\n",
        "\tprint(layer)"
      ],
      "execution_count": 3,
      "outputs": [
        {
          "output_type": "stream",
          "text": [
            "[{'weights': [0.0258151356728199, 0.7577006112981947, 0.47513778239681204]}]\n",
            "[{'weights': [0.020925474736906757, 0.22337725207287196]}]\n"
          ],
          "name": "stdout"
        }
      ]
    },
    {
      "cell_type": "code",
      "metadata": {
        "id": "31Y2txqH5Ovs",
        "colab": {
          "base_uri": "https://localhost:8080/"
        },
        "outputId": "4fccce87-b85d-45a3-fe36-e1e41ca5eba3"
      },
      "source": [
        "#manual assignment of weights\n",
        "network = [[{'weights': [0.5, 0.3, 0.1]}],\n",
        " [{'weights': [0.6, 0.8]}]]\n",
        "\n",
        "network"
      ],
      "execution_count": 4,
      "outputs": [
        {
          "output_type": "execute_result",
          "data": {
            "text/plain": [
              "[[{'weights': [0.5, 0.3, 0.1]}], [{'weights': [0.6, 0.8]}]]"
            ]
          },
          "metadata": {
            "tags": []
          },
          "execution_count": 4
        }
      ]
    },
    {
      "cell_type": "code",
      "metadata": {
        "id": "qGxblrC16HjF",
        "colab": {
          "base_uri": "https://localhost:8080/"
        },
        "outputId": "d532aac0-3915-4f44-b781-05123829987e"
      },
      "source": [
        "#Forward propagation\n",
        "\n",
        "\n",
        "# Calculate neuron activation for an input\n",
        "def activate(weights, inputs):\n",
        "\tactivation = weights[-1]\n",
        "\tfor i in range(len(weights)-1):\n",
        "\t\tactivation += weights[i] * inputs[i]\n",
        "\treturn activation\n",
        "\n",
        "# Transfer neuron activation\n",
        "def transfer(activation):\n",
        "\treturn np.round(1.0 / (1.0 + exp(-activation)),2)\n",
        "\n",
        "# Forward propagate input to a network output\n",
        "def forward_propagate(network, row):\n",
        "\tinputs = row\n",
        "\tfor layer in network:\n",
        "\t\tnew_inputs = []\n",
        "\t\tfor neuron in layer:\n",
        "\t\t\tactivation = activate(neuron['weights'], inputs)\n",
        "\t\t\tneuron['output'] = transfer(activation)\n",
        "\t\t\tnew_inputs.append(neuron['output'])\n",
        "\t\tinputs = new_inputs\n",
        "\treturn inputs\n",
        "\n",
        "# test forward propagation\n",
        "row = [1, 2]\n",
        "output = forward_propagate(network, row)\n",
        "for layer in network:\n",
        "\tprint(layer)"
      ],
      "execution_count": 5,
      "outputs": [
        {
          "output_type": "stream",
          "text": [
            "[{'weights': [0.5, 0.3, 0.1], 'output': 0.77}]\n",
            "[{'weights': [0.6, 0.8], 'output': 0.78}]\n"
          ],
          "name": "stdout"
        }
      ]
    },
    {
      "cell_type": "code",
      "metadata": {
        "id": "WXXANPM07pSJ",
        "colab": {
          "base_uri": "https://localhost:8080/"
        },
        "outputId": "b7ce07a1-22f7-4c8e-fd14-88695d034241"
      },
      "source": [
        "# Calculate the derivative of an neuron output\n",
        "def transfer_derivative(output):\n",
        "\treturn output * (1.0 - output)\n",
        "\n",
        "# Backpropagate error and store in neurons\n",
        "def backward_propagate_error(network, expected):\n",
        "\tfor i in reversed(range(len(network))):\n",
        "\t\tlayer = network[i]\n",
        "\t\terrors = list()\n",
        "\t\tif i != len(network)-1:\n",
        "\t\t\tfor j in range(len(layer)):\n",
        "\t\t\t\terror = 0.0\n",
        "\t\t\t\tfor neuron in network[i + 1]:\n",
        "\t\t\t\t\terror += (neuron['weights'][j] * neuron['delta'])\n",
        "\t\t\t\terrors.append(error)\n",
        "\t\telse:\n",
        "\t\t\tfor j in range(len(layer)):\n",
        "\t\t\t\tneuron = layer[j]\n",
        "\t\t\t\terrors.append(expected[j] - neuron['output'])\n",
        "\t\tfor j in range(len(layer)):\n",
        "\t\t\tneuron = layer[j]\n",
        "\t\t\tneuron['delta'] = errors[j] * transfer_derivative(neuron['output'])\n",
        "\n",
        "# test backpropagation of error\n",
        "\n",
        "expected = [1]\n",
        "backward_propagate_error(network, expected)\n",
        "for layer in network:\n",
        "\tprint(layer)"
      ],
      "execution_count": 6,
      "outputs": [
        {
          "output_type": "stream",
          "text": [
            "[{'weights': [0.5, 0.3, 0.1], 'output': 0.77, 'delta': 0.004011527519999998}]\n",
            "[{'weights': [0.6, 0.8], 'output': 0.78, 'delta': 0.03775199999999999}]\n"
          ],
          "name": "stdout"
        }
      ]
    },
    {
      "cell_type": "code",
      "metadata": {
        "id": "99fFL0AM_YPt",
        "colab": {
          "base_uri": "https://localhost:8080/"
        },
        "outputId": "f146b351-70f0-4898-849c-84f7a3364269"
      },
      "source": [
        "# Update network weights with error\n",
        "def update_weights(network, row, l_rate, momentum):\n",
        "    for i in range(len(network)):\n",
        "        inputs = row[:-1]\n",
        "        if i != 0:\n",
        "            inputs = [neuron['output'] for neuron in network[i - 1]]\n",
        "        for neuron in network[i]:\n",
        "            for j in range(len(inputs)):\n",
        "                neuron['weights'][j] = neuron['weights'][j] + (l_rate * neuron['delta'] * inputs[j]) + (momentum * l_rate * neuron['delta'] * inputs[j-1])\n",
        "            neuron['weights'][-1] = neuron['weights'][-1] + (l_rate * neuron['delta']) + (momentum * l_rate * neuron['delta'])\n",
        "\n",
        "\n",
        "lr = 0.5\n",
        "update_weights(network, row, lr, momentum)\n",
        "\n",
        "for layer in network:\n",
        "\tprint(layer)"
      ],
      "execution_count": 7,
      "outputs": [
        {
          "output_type": "stream",
          "text": [
            "[{'weights': [0.503409798392, 0.3, 0.103409798392], 'output': 0.77, 'delta': 0.004011527519999998}]\n",
            "[{'weights': [0.624708684, 0.8320892000000001], 'output': 0.78, 'delta': 0.03775199999999999}]\n"
          ],
          "name": "stdout"
        }
      ]
    },
    {
      "cell_type": "code",
      "metadata": {
        "id": "e2rgjgDa_tBw"
      },
      "source": [
        "#Apply this function to learn from data - you must provide the train variable which consist of your dataset\n",
        "\n",
        "# Train a network for a fixed number of epochs\n",
        "def train_network(network, train, l_rate, n_epoch, n_outputs):\n",
        "\tfor epoch in range(n_epoch):\n",
        "\t\tsum_error = 0\n",
        "\t\tfor row in train:\n",
        "\t\t\toutputs = forward_propagate(network, row)\n",
        "\t\t\texpected = [0 for i in range(n_outputs)]\n",
        "\t\t\texpected[row[-1]] = 1\n",
        "\t\t\tsum_error += sum([(expected[i]-outputs[i])**2 for i in range(len(expected))])\n",
        "\t\t\tbackward_propagate_error(network, expected)\n",
        "\t\t\tupdate_weights(network, row, l_rate, momentum)\n",
        "\t\tprint('>epoch=%d, lrate=%.3f, error=%.3f' % (epoch, l_rate, sum_error))"
      ],
      "execution_count": 10,
      "outputs": []
    },
    {
      "cell_type": "code",
      "metadata": {
        "colab": {
          "base_uri": "https://localhost:8080/"
        },
        "id": "PoOrCwvgntfz",
        "outputId": "229fdea8-4ef5-403a-972b-7207a01d7d2b"
      },
      "source": [
        "data = [1,1,0], [1,0,1], [0,1,1], [0,0,0]\n",
        "\n",
        "n_inputs = len(data[0])-1\n",
        "n_outputs = len(set([row[-1] for row in data]))\n",
        "network = initialize_network(n_inputs, 2, n_outputs)\n",
        "train_network(network, data, 0.5, 2, n_outputs)\n",
        "\n",
        "for layer in network:\n",
        "  print(layer)\n",
        "  print('\\n') "
      ],
      "execution_count": 15,
      "outputs": [
        {
          "output_type": "stream",
          "text": [
            ">epoch=0, lrate=0.500, error=2.523\n",
            ">epoch=1, lrate=0.500, error=2.385\n",
            "[{'weights': [0.18542160751216127, 0.8836798176573013, 0.3286631605770476], 'output': 0.58, 'delta': 0.0005439120273909325}, {'weights': [0.08526852796790975, 0.8635608822567803, 0.7325510128252436], 'output': 0.67, 'delta': 0.004413389275355613}]\n",
            "\n",
            "\n",
            "[{'weights': [0.5661854649996799, 0.22251928111309216, -0.013783018315365395], 'output': 0.58, 'delta': 0.10231200000000001}, {'weights': [0.26120752748849446, -0.09877672996443077, 0.40514708166449764], 'output': 0.67, 'delta': -0.148137}]\n",
            "\n",
            "\n"
          ],
          "name": "stdout"
        }
      ]
    }
  ]
}